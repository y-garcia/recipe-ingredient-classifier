{
 "cells": [
  {
   "cell_type": "code",
   "execution_count": 21,
   "metadata": {},
   "outputs": [],
   "source": [
    "try:\n",
    "    already_initialized\n",
    "except NameError:\n",
    "    !python -m pip install --upgrade pip\n",
    "    !pip install spacy==2.3.5\n",
    "    !pip install spacy-lookups-data\n",
    "    !python -m spacy download de_core_news_sm\n",
    "    already_initialized = True"
   ]
  },
  {
   "cell_type": "code",
   "execution_count": 22,
   "metadata": {},
   "outputs": [],
   "source": [
    "import pandas as pd\n",
    "from sklearn.model_selection import train_test_split\n",
    "import matplotlib.pyplot as plt\n",
    "\n",
    "import spacy\n",
    "import de_core_news_sm\n",
    "from spacy.lang.de import German\n",
    "from spacy.matcher import PhraseMatcher\n",
    "from spacy.gold import GoldParse\n",
    "from spacy.scorer import Scorer\n",
    "\n",
    "import random\n",
    "import pprint\n",
    "import string\n",
    "import re\n",
    "from datetime import datetime\n",
    "from pathlib import Path"
   ]
  },
  {
   "cell_type": "code",
   "execution_count": 23,
   "metadata": {},
   "outputs": [
    {
     "name": "stdout",
     "output_type": "stream",
     "text": [
      "Total number of rows: 573\n"
     ]
    },
    {
     "data": {
      "text/html": [
       "<div>\n",
       "<style scoped>\n",
       "    .dataframe tbody tr th:only-of-type {\n",
       "        vertical-align: middle;\n",
       "    }\n",
       "\n",
       "    .dataframe tbody tr th {\n",
       "        vertical-align: top;\n",
       "    }\n",
       "\n",
       "    .dataframe thead th {\n",
       "        text-align: right;\n",
       "    }\n",
       "</style>\n",
       "<table border=\"1\" class=\"dataframe\">\n",
       "  <thead>\n",
       "    <tr style=\"text-align: right;\">\n",
       "      <th></th>\n",
       "      <th>ingredient</th>\n",
       "      <th>quantity</th>\n",
       "      <th>unit</th>\n",
       "      <th>name</th>\n",
       "    </tr>\n",
       "  </thead>\n",
       "  <tbody>\n",
       "    <tr>\n",
       "      <th>0</th>\n",
       "      <td>2.00 Becher süße Sahne</td>\n",
       "      <td>2.00</td>\n",
       "      <td>Becher</td>\n",
       "      <td>süße Sahne</td>\n",
       "    </tr>\n",
       "    <tr>\n",
       "      <th>1</th>\n",
       "      <td>6.00 Blätter Basilikum</td>\n",
       "      <td>6.00</td>\n",
       "      <td>Blätter</td>\n",
       "      <td>Basilikum</td>\n",
       "    </tr>\n",
       "    <tr>\n",
       "      <th>2</th>\n",
       "      <td>4.00 Blätter Petersilie</td>\n",
       "      <td>4.00</td>\n",
       "      <td>Blätter</td>\n",
       "      <td>Petersilie</td>\n",
       "    </tr>\n",
       "    <tr>\n",
       "      <th>3</th>\n",
       "      <td>0.52 Bund Minze</td>\n",
       "      <td>0.52</td>\n",
       "      <td>Bund</td>\n",
       "      <td>Minze</td>\n",
       "    </tr>\n",
       "    <tr>\n",
       "      <th>4</th>\n",
       "      <td>0.52 Bund Petersilie</td>\n",
       "      <td>0.52</td>\n",
       "      <td>Bund</td>\n",
       "      <td>Petersilie</td>\n",
       "    </tr>\n",
       "    <tr>\n",
       "      <th>5</th>\n",
       "      <td>1.00 Bund Frühlingszwiebeln</td>\n",
       "      <td>1.00</td>\n",
       "      <td>Bund</td>\n",
       "      <td>Frühlingszwiebeln</td>\n",
       "    </tr>\n",
       "    <tr>\n",
       "      <th>6</th>\n",
       "      <td>0.52 Bund Petersilie</td>\n",
       "      <td>0.52</td>\n",
       "      <td>Bund</td>\n",
       "      <td>Petersilie</td>\n",
       "    </tr>\n",
       "    <tr>\n",
       "      <th>7</th>\n",
       "      <td>1.00 Bund Frühlingszwiebeln</td>\n",
       "      <td>1.00</td>\n",
       "      <td>Bund</td>\n",
       "      <td>Frühlingszwiebeln</td>\n",
       "    </tr>\n",
       "    <tr>\n",
       "      <th>8</th>\n",
       "      <td>1.00 Bund Koriander</td>\n",
       "      <td>1.00</td>\n",
       "      <td>Bund</td>\n",
       "      <td>Koriander</td>\n",
       "    </tr>\n",
       "    <tr>\n",
       "      <th>9</th>\n",
       "      <td>0.52 Bund Petersilie</td>\n",
       "      <td>0.52</td>\n",
       "      <td>Bund</td>\n",
       "      <td>Petersilie</td>\n",
       "    </tr>\n",
       "  </tbody>\n",
       "</table>\n",
       "</div>"
      ],
      "text/plain": [
       "                    ingredient  quantity     unit               name\n",
       "0       2.00 Becher süße Sahne      2.00   Becher         süße Sahne\n",
       "1       6.00 Blätter Basilikum      6.00  Blätter          Basilikum\n",
       "2      4.00 Blätter Petersilie      4.00  Blätter         Petersilie\n",
       "3              0.52 Bund Minze      0.52     Bund              Minze\n",
       "4         0.52 Bund Petersilie      0.52     Bund         Petersilie\n",
       "5  1.00 Bund Frühlingszwiebeln      1.00     Bund  Frühlingszwiebeln\n",
       "6         0.52 Bund Petersilie      0.52     Bund         Petersilie\n",
       "7  1.00 Bund Frühlingszwiebeln      1.00     Bund  Frühlingszwiebeln\n",
       "8          1.00 Bund Koriander      1.00     Bund          Koriander\n",
       "9         0.52 Bund Petersilie      0.52     Bund         Petersilie"
      ]
     },
     "execution_count": 23,
     "metadata": {},
     "output_type": "execute_result"
    }
   ],
   "source": [
    "csv_file = 'data/data.csv'\n",
    "ingredients_df = pd.read_csv(csv_file)\n",
    "\n",
    "print(f\"Total number of rows: {len(ingredients_df.index)}\")\n",
    "\n",
    "# print out the first few rows of data info\n",
    "ingredients_df.head(10)"
   ]
  },
  {
   "cell_type": "code",
   "execution_count": 24,
   "metadata": {},
   "outputs": [],
   "source": [
    "pprinter = pprint.PrettyPrinter(indent=4)"
   ]
  },
  {
   "cell_type": "code",
   "execution_count": 25,
   "metadata": {},
   "outputs": [],
   "source": [
    "def pp(title, obj, newline=True):\n",
    "    print(f'{title}:')\n",
    "    pprinter.pprint(obj)\n",
    "    if(newline):\n",
    "        print()\n",
    "\n",
    "def split_words(series):\n",
    "    unique = set()\n",
    "    for item in series:\n",
    "        cleaned = re.sub(r'['+re.escape(string.punctuation)+']', ' ', item)\n",
    "        cleaned = re.sub(r' +', ' ', cleaned)\n",
    "        words = cleaned.split()\n",
    "        for word in words:\n",
    "            unique.add(word)\n",
    "    return list(unique)\n",
    "    \n",
    "def generate_patterns(model, series, label):\n",
    "    matcher_patterns = []\n",
    "    \n",
    "    for item in series:\n",
    "        pattern = item.lower() if isinstance(item, str) else f'{item:.2f}'\n",
    "        matcher_patterns.append(model.make_doc(pattern))\n",
    "    \n",
    "    return matcher_patterns\n",
    "\n",
    "def generate_data(model, data, matcher):\n",
    "    RESULT = []\n",
    "    for doc in model.pipe(data):\n",
    "        entities = []\n",
    "        for match_id, start, end in matcher(doc):\n",
    "            span = doc[start:end]\n",
    "            label = model.vocab.strings[match_id]\n",
    "            entity = (span.start_char, span.end_char, label)\n",
    "            entities.append(entity)\n",
    "\n",
    "        training_example = (doc.text, {'entities': entities})\n",
    "        RESULT.append(training_example)\n",
    "    return RESULT"
   ]
  },
  {
   "cell_type": "markdown",
   "metadata": {},
   "source": [
    "# Generate patterns\n",
    "We are going to generate patterns we can use for automatically labeling our training data using spacy."
   ]
  },
  {
   "cell_type": "code",
   "execution_count": 26,
   "metadata": {},
   "outputs": [
    {
     "name": "stdout",
     "output_type": "stream",
     "text": [
      "Unit pattern examples:\n",
      "[becher, blätter, bund, cm, dosen, el, g, gläser, handvoll, kannen]\n",
      "\n"
     ]
    }
   ],
   "source": [
    "nlp = de_core_news_sm.load() # TODO try load(disable=['parser', 'tagger', 'ner'])\n",
    "\n",
    "UNITS = ingredients_df.unit.unique()\n",
    "\n",
    "unit_matcher_patterns = generate_patterns(nlp, UNITS, 'UNIT')\n",
    "\n",
    "pp('Unit pattern examples', unit_matcher_patterns[0:10])"
   ]
  },
  {
   "cell_type": "code",
   "execution_count": 27,
   "metadata": {},
   "outputs": [
    {
     "name": "stdout",
     "output_type": "stream",
     "text": [
      "Quantity pattern examples:\n",
      "[2.00, 6.00, 4.00, 0.52, 1.00, 0.32, 5.00, 3.00, 8.00, 0.28]\n",
      "\n"
     ]
    }
   ],
   "source": [
    "QUANTITIES = ingredients_df.quantity.unique()\n",
    "\n",
    "quantity_matcher_patterns = generate_patterns(nlp, QUANTITIES, 'QUANTITY')\n",
    "\n",
    "pp('Quantity pattern examples', quantity_matcher_patterns[0:10])"
   ]
  },
  {
   "cell_type": "code",
   "execution_count": 28,
   "metadata": {},
   "outputs": [
    {
     "name": "stdout",
     "output_type": "stream",
     "text": [
      "Name pattern examples:\n",
      "[   thymian,\n",
      "    sonnenblumenöl,\n",
      "    kumin,\n",
      "    gekochter,\n",
      "    erdnüsse,\n",
      "    kakaobohnenstücke,\n",
      "    cashewnüsse,\n",
      "    austernpilze,\n",
      "    champignons,\n",
      "    natron]\n",
      "\n"
     ]
    }
   ],
   "source": [
    "NAMES = ingredients_df.name.unique()\n",
    "\n",
    "UNIQUE_WORDS = split_words(NAMES)\n",
    "\n",
    "name_matcher_patterns = generate_patterns(nlp, UNIQUE_WORDS, 'NAME')\n",
    "\n",
    "pp('Name pattern examples', name_matcher_patterns[0:10])"
   ]
  },
  {
   "cell_type": "markdown",
   "metadata": {},
   "source": [
    "# Create Training Data\n",
    "Now we are going to loop through all the texts in the ingredient column and mark each part (quantity, unit and name) as different entities using the patterns we generated above."
   ]
  },
  {
   "cell_type": "code",
   "execution_count": 29,
   "metadata": {},
   "outputs": [
    {
     "name": "stdout",
     "output_type": "stream",
     "text": [
      "train set: 343 examples - 60%\n",
      "  dev set: 115 examples - 20%\n",
      " test set: 115 examples - 20%\n"
     ]
    }
   ],
   "source": [
    "# Number of examples - train: 343 - dev: 115 - test: 115\n",
    "TRAIN_SET, DEV_TEST_SET = train_test_split(ingredients_df, test_size=0.4)\n",
    "DEV_SET, TEST_SET = train_test_split(DEV_TEST_SET, test_size=0.5)\n",
    "\n",
    "DEV_TEST_SET = None\n",
    "\n",
    "total = len(ingredients_df)\n",
    "train_percent = len(TRAIN_SET) / total\n",
    "dev_percent = len(DEV_SET) / total\n",
    "test_percent = len(TEST_SET) / total\n",
    "\n",
    "print(f'train set: {len(TRAIN_SET)} examples - {train_percent:.0%}') # 343\n",
    "print(f'  dev set: {len(DEV_SET)} examples - {dev_percent:.0%}')   # 115\n",
    "print(f' test set: {len(TEST_SET)} examples - {test_percent:.0%}')  # 115"
   ]
  },
  {
   "cell_type": "code",
   "execution_count": 30,
   "metadata": {},
   "outputs": [
    {
     "name": "stdout",
     "output_type": "stream",
     "text": [
      "TRAIN_DATA:\n",
      "[   (   '250.00 g Rote Linsen',\n",
      "        {   'entities': [   (0, 6, 'QUANTITY'),\n",
      "                            (7, 8, 'UNIT'),\n",
      "                            (9, 13, 'NAME'),\n",
      "                            (14, 20, 'NAME')]}),\n",
      "    (   '500.00 ml Milch',\n",
      "        {'entities': [(0, 6, 'QUANTITY'), (7, 9, 'UNIT'), (10, 15, 'NAME')]}),\n",
      "    (   '0.52 TL Pimentón',\n",
      "        {'entities': [(0, 4, 'QUANTITY'), (5, 7, 'UNIT'), (8, 16, 'NAME')]}),\n",
      "    (   '1.00 Packungen Frischkäse',\n",
      "        {'entities': [(0, 4, 'QUANTITY'), (5, 14, 'UNIT'), (15, 25, 'NAME')]}),\n",
      "    (   '2.00 EL Zitronensaft',\n",
      "        {'entities': [(0, 4, 'QUANTITY'), (5, 7, 'UNIT'), (8, 20, 'NAME')]})]\n",
      "\n",
      "DEV_DATA:\n",
      "[   (   '100.00 g Semmelbrösel',\n",
      "        {'entities': [(0, 6, 'QUANTITY'), (7, 8, 'UNIT'), (9, 21, 'NAME')]}),\n",
      "    (   '125.00 g Rote Linsen',\n",
      "        {   'entities': [   (0, 6, 'QUANTITY'),\n",
      "                            (7, 8, 'UNIT'),\n",
      "                            (9, 13, 'NAME'),\n",
      "                            (14, 20, 'NAME')]}),\n",
      "    (   '2.00 EL Weizenkeime',\n",
      "        {'entities': [(0, 4, 'QUANTITY'), (5, 7, 'UNIT'), (8, 19, 'NAME')]}),\n",
      "    (   '1.00 Packungen Mozzarella',\n",
      "        {'entities': [(0, 4, 'QUANTITY'), (5, 14, 'UNIT'), (15, 25, 'NAME')]}),\n",
      "    (   '600.00 g Dinkelmehl',\n",
      "        {'entities': [(0, 6, 'QUANTITY'), (7, 8, 'UNIT'), (9, 19, 'NAME')]})]\n",
      "\n",
      "TEST_DATA:\n",
      "[   (   '5.00 cm Ingwer',\n",
      "        {'entities': [(0, 4, 'QUANTITY'), (5, 7, 'UNIT'), (8, 14, 'NAME')]}),\n",
      "    (   '500.00 g Linsen',\n",
      "        {'entities': [(0, 6, 'QUANTITY'), (7, 8, 'UNIT'), (9, 15, 'NAME')]}),\n",
      "    (   '1.00 Dosen Mais',\n",
      "        {'entities': [(0, 4, 'QUANTITY'), (5, 10, 'UNIT'), (11, 15, 'NAME')]}),\n",
      "    (   '2.00 TL Kumin',\n",
      "        {'entities': [(0, 4, 'QUANTITY'), (5, 7, 'UNIT'), (8, 13, 'NAME')]}),\n",
      "    (   '1000.00 ml Sojamilch',\n",
      "        {'entities': [(0, 7, 'QUANTITY'), (8, 10, 'UNIT'), (11, 20, 'NAME')]})]\n",
      "\n"
     ]
    }
   ],
   "source": [
    "matcher = PhraseMatcher(nlp.vocab, attr='LOWER')\n",
    "matcher.add('QUANTITY', None, *quantity_matcher_patterns)\n",
    "matcher.add('UNIT', None, *unit_matcher_patterns)\n",
    "matcher.add('NAME', None, *name_matcher_patterns)\n",
    "\n",
    "TRAIN_DATA = generate_data(nlp, TRAIN_SET.ingredient, matcher)\n",
    "DEV_DATA = generate_data(nlp, DEV_SET.ingredient, matcher)\n",
    "TEST_DATA = generate_data(nlp, TEST_SET.ingredient, matcher)\n",
    "\n",
    "pp('TRAIN_DATA', TRAIN_DATA[0:5])\n",
    "pp('DEV_DATA', DEV_DATA[0:5])\n",
    "pp('TEST_DATA', TEST_DATA[0:5])"
   ]
  },
  {
   "cell_type": "markdown",
   "metadata": {},
   "source": [
    "# Training Model"
   ]
  },
  {
   "cell_type": "code",
   "execution_count": 31,
   "metadata": {},
   "outputs": [
    {
     "name": "stdout",
     "output_type": "stream",
     "text": [
      "iteration 0 - loss: {'ner': 101.46802211960431}\n",
      "iteration 1 - loss: {'ner': 14.830586319731129}\n",
      "iteration 2 - loss: {'ner': 8.37988930611758}\n",
      "iteration 3 - loss: {'ner': 7.872898812726872}\n",
      "iteration 4 - loss: {'ner': 6.0375049240566545}\n",
      "iteration 5 - loss: {'ner': 2.474178043366053}\n",
      "iteration 6 - loss: {'ner': 6.752452677863927}\n",
      "iteration 7 - loss: {'ner': 3.9216708747492466}\n",
      "iteration 8 - loss: {'ner': 3.813386154730257}\n",
      "iteration 9 - loss: {'ner': 1.6196060131578651}\n"
     ]
    }
   ],
   "source": [
    "nlp = spacy.blank('de')\n",
    "ner = nlp.create_pipe('ner')\n",
    "nlp.add_pipe(ner)\n",
    "ner.add_label('QUANTITY')\n",
    "ner.add_label('UNIT')\n",
    "ner.add_label('NAME')\n",
    "\n",
    "# TODO 2. improve training model https://v2.spacy.io/usage/training\n",
    "\n",
    "optimizer = nlp.begin_training()\n",
    "\n",
    "hyper = {'iterations': 10, 'minibatch_size': 2, 'dropout': 0.2}\n",
    "loss_history = []\n",
    "for iteration in range(hyper['iterations']):\n",
    "    random.shuffle(TRAIN_DATA)\n",
    "    \n",
    "    losses = {}\n",
    "    \n",
    "    batches = spacy.util.minibatch(TRAIN_DATA, size=hyper['minibatch_size'])\n",
    "    for batch in batches:\n",
    "        texts = []\n",
    "        annotations = []\n",
    "        for text, entity_offsets in batch:\n",
    "            doc = nlp.make_doc(text)\n",
    "            gold = GoldParse(doc, entities=entity_offsets['entities'])\n",
    "            spacy.gold.biluo_tags_from_offsets(doc, entity_offsets['entities'])\n",
    "            texts.append(doc)\n",
    "            annotations.append(gold)\n",
    "        nlp.update(texts, annotations, losses=losses, sgd=optimizer, drop=hyper['dropout'])\n",
    "        \n",
    "    loss_history.append(losses['ner'])\n",
    "    print(f'iteration {iteration} - loss: {losses}')"
   ]
  },
  {
   "cell_type": "code",
   "execution_count": 32,
   "metadata": {},
   "outputs": [
    {
     "data": {
      "image/png": "[encoded data removed]",
      "text/plain": [
       "<Figure size 432x288 with 1 Axes>"
      ]
     },
     "metadata": {
      "needs_background": "light"
     },
     "output_type": "display_data"
    }
   ],
   "source": [
    "plt.plot(loss_history)\n",
    "plt.ylabel('Loss')\n",
    "plt.xlabel('iterations')\n",
    "plt.show()"
   ]
  },
  {
   "cell_type": "markdown",
   "metadata": {},
   "source": [
    "# Saving Model to Disk"
   ]
  },
  {
   "cell_type": "code",
   "execution_count": 33,
   "metadata": {},
   "outputs": [],
   "source": [
    "now = datetime.today().strftime('%Y-%m-%d_%H-%M-%S')\n",
    "model_name = f'model_{now}_loss-{loss_history[-1]:.2f}'\n",
    "Path(f'./model').mkdir(parents=True, exist_ok=True)\n",
    "nlp.to_disk(f'./model/{model_name}')"
   ]
  },
  {
   "cell_type": "markdown",
   "metadata": {},
   "source": [
    "# Loading Model from Disk"
   ]
  },
  {
   "cell_type": "code",
   "execution_count": 34,
   "metadata": {},
   "outputs": [],
   "source": [
    "model_to_load = model_name;\n",
    "\n",
    "nlp = spacy.load(f'model/{model_to_load}')"
   ]
  },
  {
   "cell_type": "markdown",
   "metadata": {},
   "source": [
    "# Testing Model"
   ]
  },
  {
   "cell_type": "code",
   "execution_count": 35,
   "metadata": {},
   "outputs": [],
   "source": [
    "def get_entities(text):\n",
    "    doc = nlp(text)\n",
    "    return [(ent.label_, ent.text) for ent in doc.ents]"
   ]
  },
  {
   "cell_type": "code",
   "execution_count": 36,
   "metadata": {},
   "outputs": [
    {
     "name": "stdout",
     "output_type": "stream",
     "text": [
      "160.00 g Grieß \n",
      "  [('QUANTITY', '160.00'), ('UNIT', 'g'), ('NAME', 'Grieß')]\n",
      "1.00 TL Paprikapulver edelsüß \n",
      "  [('QUANTITY', '1.00'), ('UNIT', 'TL'), ('NAME', 'Paprikapulver'), ('NAME', 'edelsüß')]\n",
      "500.00 g Griechischer Joghurt \n",
      "  [('QUANTITY', '500.00'), ('UNIT', 'g'), ('NAME', 'Griechischer'), ('NAME', 'Joghurt')]\n",
      "250.00 g Champignons \n",
      "  [('QUANTITY', '250.00'), ('UNIT', 'g'), ('NAME', 'Champignons')]\n",
      "4.00 Zehen Knoblauch \n",
      "  [('QUANTITY', '4.00'), ('UNIT', 'Zehen'), ('NAME', 'Knoblauch')]\n",
      "1.00 TL Zucker \n",
      "  [('QUANTITY', '1.00'), ('UNIT', 'TL'), ('NAME', 'Zucker')]\n",
      "1.00 Dosen Kichererbsen \n",
      "  [('QUANTITY', '1.00'), ('UNIT', 'Dosen'), ('NAME', 'Kichererbsen')]\n",
      "20.00 g Walnüsse \n",
      "  [('QUANTITY', '20.00'), ('UNIT', 'g'), ('NAME', 'Walnüsse')]\n",
      "100.00 ml Milch \n",
      "  [('QUANTITY', '100.00'), ('UNIT', 'ml'), ('NAME', 'Milch')]\n",
      "2.00 TL Thymian \n",
      "  [('QUANTITY', '2.00'), ('UNIT', 'TL'), ('NAME', 'Thymian')]\n"
     ]
    }
   ],
   "source": [
    "examples_to_try = 10\n",
    "for i in range(examples_to_try):\n",
    "    random.shuffle(TEST_DATA)\n",
    "    text, _ = TEST_DATA[i]\n",
    "    print(text, '\\n ', get_entities(text))"
   ]
  },
  {
   "cell_type": "code",
   "execution_count": 37,
   "metadata": {},
   "outputs": [
    {
     "data": {
      "text/plain": [
       "[('QUANTITY', '2'), ('UNIT', 'tl'), ('NAME', 'anis')]"
      ]
     },
     "execution_count": 37,
     "metadata": {},
     "output_type": "execute_result"
    }
   ],
   "source": [
    "get_entities('2 tl anis')"
   ]
  },
  {
   "cell_type": "markdown",
   "metadata": {},
   "source": [
    "# Define a Metric\n",
    "\n",
    "Different types of metrics can be used:\n",
    "1. accuracy:\n",
    "  - `(true positives + true negatives) / total`\n",
    "  - In other words: correctly predicted / total\n",
    "  - Question accuracy answers: How many selected items were correctly categorized?\n",
    "2. recall:\n",
    "  - `true positives / (true positives + false negatives)`\n",
    "  - In other words: words correctly identified as entities / all words that are entities\n",
    "  - Question recall answers: How many relevant items are selected?\n",
    "3. precision:\n",
    "  - `true positives / (true positives + false positives)`\n",
    "  - In other words: words correctly identified as entities / words correctly and incorrectly identified as entities\n",
    "  - Question precision answers: How many selected items are relevant?\n",
    "4. F1-score:\n",
    "  - `2 · precision · recall / (precision + recall)`\n",
    "  - In other words: It tries to optimize both precision and recall. F1-score 1 means perfect precision and recall. F1-score 0 means either precision or recall is zero.\n",
    "\n",
    "`Accuracy` can be misleading if we have imbalanced data.\n",
    "\n",
    "`Recall` is in our case more important than `precision`, since we want to catch all ingredients,\n",
    "and we don't care if some non-ingredients are marked as such, we can just delete them later in the app with a\n",
    "single click of a button. On the other hand not recognizing ingredients would force us to type them manually.\n",
    "\n",
    "We still don't want to have too many non-ingredients in our ingredient's list though, so we could use the `F1-Score`\n",
    "which combines `recall` and `precision` as a metric for our problem.\n",
    "\n",
    "Another approach could be to use precision as a **satisficing metric** and recall as an **optimizing metric**."
   ]
  },
  {
   "cell_type": "markdown",
   "metadata": {},
   "source": [
    "# Evaluating Model"
   ]
  },
  {
   "cell_type": "code",
   "execution_count": 38,
   "metadata": {},
   "outputs": [],
   "source": [
    "def evaluate(model, data):\n",
    "    scorer = Scorer()\n",
    "    for text, annotations in data:\n",
    "        doc = model.make_doc(text)\n",
    "        gold = GoldParse(doc, entities=annotations['entities'])\n",
    "        prediction = model(text)\n",
    "        scorer.score(prediction, gold)\n",
    "        # TODO can I get the wrongly labeled examples from the scorer?\n",
    "    return scorer.scores['ents_f']"
   ]
  },
  {
   "cell_type": "code",
   "execution_count": 39,
   "metadata": {},
   "outputs": [
    {
     "name": "stdout",
     "output_type": "stream",
     "text": [
      "F1 score on TRAIN_DATA:\n",
      "100.0\n",
      "\n",
      "F1 score on DEV_DATA:\n",
      "99.43019943019942\n",
      "\n",
      "F1 score on TEST_DATA:\n",
      "99.72067039106145\n",
      "\n"
     ]
    }
   ],
   "source": [
    "pp('F1 score on TRAIN_DATA', evaluate(nlp, TRAIN_DATA))\n",
    "pp('F1 score on DEV_DATA', evaluate(nlp, DEV_DATA))\n",
    "pp('F1 score on TEST_DATA', evaluate(nlp, TEST_DATA))"
   ]
  },
  {
   "cell_type": "markdown",
   "metadata": {},
   "source": [
    "# Error Analysis\n",
    "- train error 1%   - dev error 10% -> bias =   1%, variance = 10%- 1% =   9% -> high variance -> **overfitting**\n",
    "- train error 15%  - dev error 16% -> bias =  15%, variance = 16%-15% =   1% -> high bias -> **underfitting**\n",
    "- train error 15%  - dev error 30% -> bias =  15%, variance = 30%-15% =  15% -> high bias and high variance\n",
    "- train error 0.5% - dev error  1% -> bias = 0.5%, variance = 1%-0.5% = 0.5% -> low bias and low variance\n",
    "- human error 14% (aka Bayes error rate) - train error 15% - dev error 30% -> avoidable bias = 15%-14% = 1%, variance = 30%-15% = 15% -> low bias and high variance\n",
    "- if high bias\n",
    "    - increase model size (neurons, layers)\n",
    "    - add more features\n",
    "    - reduce regularization\n",
    "    - modify model architecture\n",
    "- if high variance\n",
    "    - add data to training set\n",
    "    - add regularization\n",
    "    - add early stopping\n",
    "    - remove features (helpful for small datasets)\n",
    "    - decrease model size"
   ]
  },
  {
   "cell_type": "code",
   "execution_count": 40,
   "metadata": {},
   "outputs": [],
   "source": [
    "# TODO choose the right hyperparameters using the dev set\n",
    "# TODO error analysis: get all the mislabeled examples and try to find out what could be the cause. Create an excel table to count which kind of error takes place more frequently.\n",
    "# TODO calculate bias and variance"
   ]
  }
 ],
 "metadata": {
  "kernelspec": {
   "display_name": "conda_python3",
   "language": "python",
   "name": "conda_python3"
  },
  "language_info": {
   "codemirror_mode": {
    "name": "ipython",
    "version": 3
   },
   "file_extension": ".py",
   "mimetype": "text/x-python",
   "name": "python",
   "nbconvert_exporter": "python",
   "pygments_lexer": "ipython3",
   "version": "3.6.13"
  }
 },
 "nbformat": 4,
 "nbformat_minor": 4
}
