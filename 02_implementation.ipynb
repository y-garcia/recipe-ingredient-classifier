{
 "cells": [
  {
   "cell_type": "code",
   "execution_count": null,
   "metadata": {},
   "outputs": [],
   "source": [
    "!python -m pip install --upgrade pip\n",
    "!pip install spacy==2.3.5\n",
    "!python -m spacy download en_core_web_sm"
   ]
  },
  {
   "cell_type": "code",
   "execution_count": 2,
   "metadata": {},
   "outputs": [],
   "source": [
    "import pandas as pd"
   ]
  },
  {
   "cell_type": "code",
   "execution_count": 3,
   "metadata": {},
   "outputs": [
    {
     "name": "stdout",
     "output_type": "stream",
     "text": [
      "Total number of rows: 573\n"
     ]
    },
    {
     "data": {
      "text/html": [
       "<div>\n",
       "<style scoped>\n",
       "    .dataframe tbody tr th:only-of-type {\n",
       "        vertical-align: middle;\n",
       "    }\n",
       "\n",
       "    .dataframe tbody tr th {\n",
       "        vertical-align: top;\n",
       "    }\n",
       "\n",
       "    .dataframe thead th {\n",
       "        text-align: right;\n",
       "    }\n",
       "</style>\n",
       "<table border=\"1\" class=\"dataframe\">\n",
       "  <thead>\n",
       "    <tr style=\"text-align: right;\">\n",
       "      <th></th>\n",
       "      <th>ingredient</th>\n",
       "      <th>quantity</th>\n",
       "      <th>unit</th>\n",
       "      <th>name</th>\n",
       "    </tr>\n",
       "  </thead>\n",
       "  <tbody>\n",
       "    <tr>\n",
       "      <th>0</th>\n",
       "      <td>2.00 Becher süße Sahne</td>\n",
       "      <td>2.00</td>\n",
       "      <td>Becher</td>\n",
       "      <td>süße Sahne</td>\n",
       "    </tr>\n",
       "    <tr>\n",
       "      <th>1</th>\n",
       "      <td>6.00 Blätter Basilikum</td>\n",
       "      <td>6.00</td>\n",
       "      <td>Blätter</td>\n",
       "      <td>Basilikum</td>\n",
       "    </tr>\n",
       "    <tr>\n",
       "      <th>2</th>\n",
       "      <td>4.00 Blätter Petersilie</td>\n",
       "      <td>4.00</td>\n",
       "      <td>Blätter</td>\n",
       "      <td>Petersilie</td>\n",
       "    </tr>\n",
       "    <tr>\n",
       "      <th>3</th>\n",
       "      <td>0.52 Bund Minze</td>\n",
       "      <td>0.52</td>\n",
       "      <td>Bund</td>\n",
       "      <td>Minze</td>\n",
       "    </tr>\n",
       "    <tr>\n",
       "      <th>4</th>\n",
       "      <td>0.52 Bund Petersilie</td>\n",
       "      <td>0.52</td>\n",
       "      <td>Bund</td>\n",
       "      <td>Petersilie</td>\n",
       "    </tr>\n",
       "    <tr>\n",
       "      <th>5</th>\n",
       "      <td>1.00 Bund Frühlingszwiebeln</td>\n",
       "      <td>1.00</td>\n",
       "      <td>Bund</td>\n",
       "      <td>Frühlingszwiebeln</td>\n",
       "    </tr>\n",
       "    <tr>\n",
       "      <th>6</th>\n",
       "      <td>0.52 Bund Petersilie</td>\n",
       "      <td>0.52</td>\n",
       "      <td>Bund</td>\n",
       "      <td>Petersilie</td>\n",
       "    </tr>\n",
       "    <tr>\n",
       "      <th>7</th>\n",
       "      <td>1.00 Bund Frühlingszwiebeln</td>\n",
       "      <td>1.00</td>\n",
       "      <td>Bund</td>\n",
       "      <td>Frühlingszwiebeln</td>\n",
       "    </tr>\n",
       "    <tr>\n",
       "      <th>8</th>\n",
       "      <td>1.00 Bund Koriander</td>\n",
       "      <td>1.00</td>\n",
       "      <td>Bund</td>\n",
       "      <td>Koriander</td>\n",
       "    </tr>\n",
       "    <tr>\n",
       "      <th>9</th>\n",
       "      <td>0.52 Bund Petersilie</td>\n",
       "      <td>0.52</td>\n",
       "      <td>Bund</td>\n",
       "      <td>Petersilie</td>\n",
       "    </tr>\n",
       "  </tbody>\n",
       "</table>\n",
       "</div>"
      ],
      "text/plain": [
       "                    ingredient  quantity     unit               name\n",
       "0       2.00 Becher süße Sahne      2.00   Becher         süße Sahne\n",
       "1       6.00 Blätter Basilikum      6.00  Blätter          Basilikum\n",
       "2      4.00 Blätter Petersilie      4.00  Blätter         Petersilie\n",
       "3              0.52 Bund Minze      0.52     Bund              Minze\n",
       "4         0.52 Bund Petersilie      0.52     Bund         Petersilie\n",
       "5  1.00 Bund Frühlingszwiebeln      1.00     Bund  Frühlingszwiebeln\n",
       "6         0.52 Bund Petersilie      0.52     Bund         Petersilie\n",
       "7  1.00 Bund Frühlingszwiebeln      1.00     Bund  Frühlingszwiebeln\n",
       "8          1.00 Bund Koriander      1.00     Bund          Koriander\n",
       "9         0.52 Bund Petersilie      0.52     Bund         Petersilie"
      ]
     },
     "execution_count": 3,
     "metadata": {},
     "output_type": "execute_result"
    }
   ],
   "source": [
    "csv_file = 'data/data.csv'\n",
    "ingredients_df = pd.read_csv(csv_file)\n",
    "\n",
    "print(f\"Total number of rows: {len(ingredients_df.index)}\")\n",
    "\n",
    "# print out the first few rows of data info\n",
    "ingredients_df.head(10)"
   ]
  },
  {
   "cell_type": "code",
   "execution_count": 4,
   "metadata": {},
   "outputs": [
    {
     "name": "stdout",
     "output_type": "stream",
     "text": [
      "Apple 0 5 ORG\n",
      "U.K. 27 31 GPE\n",
      "$1 billion 44 54 MONEY\n"
     ]
    }
   ],
   "source": [
    "import spacy\n",
    "import en_core_web_sm\n",
    "\n",
    "nlp = en_core_web_sm.load()\n",
    "doc = nlp(\"Apple is looking at buying U.K. startup for $1 billion\")\n",
    "\n",
    "for ent in doc.ents:\n",
    "    print(ent.text, ent.start_char, ent.end_char, ent.label_)"
   ]
  },
  {
   "cell_type": "code",
   "execution_count": 34,
   "metadata": {},
   "outputs": [],
   "source": [
    "import pprint\n",
    "pprinter = pprint.PrettyPrinter(indent=4)"
   ]
  },
  {
   "cell_type": "code",
   "execution_count": 64,
   "metadata": {},
   "outputs": [],
   "source": [
    "from spacy.lang.de import German\n",
    "from spacy.matcher import PhraseMatcher\n",
    "\n",
    "nlp = German()\n",
    "\n",
    "def pp(title, obj, newline=True):\n",
    "    print(f'{title}:')\n",
    "    pprinter.pprint(obj)\n",
    "    if(newline):\n",
    "        print()\n",
    "\n",
    "def generate_patterns(nlp, series, label):\n",
    "    entity_patterns = []\n",
    "    matcher_patterns = []\n",
    "    \n",
    "    for item in series:\n",
    "        pattern = item.lower() if isinstance(item, str) else str(item)\n",
    "        entity_patterns.append({'label': label, 'pattern': pattern})\n",
    "        matcher_patterns.append(nlp.make_doc(pattern))\n",
    "    \n",
    "    return (entity_patterns, matcher_patterns)"
   ]
  },
  {
   "cell_type": "code",
   "execution_count": 65,
   "metadata": {},
   "outputs": [
    {
     "name": "stdout",
     "output_type": "stream",
     "text": [
      "Unit entity examples::\n",
      "[   {'label': 'UNIT', 'pattern': 'becher'},\n",
      "    {'label': 'UNIT', 'pattern': 'blätter'},\n",
      "    {'label': 'UNIT', 'pattern': 'bund'},\n",
      "    {'label': 'UNIT', 'pattern': 'cm'},\n",
      "    {'label': 'UNIT', 'pattern': 'dosen'},\n",
      "    {'label': 'UNIT', 'pattern': 'el'},\n",
      "    {'label': 'UNIT', 'pattern': 'g'},\n",
      "    {'label': 'UNIT', 'pattern': 'gläser'},\n",
      "    {'label': 'UNIT', 'pattern': 'handvoll'},\n",
      "    {'label': 'UNIT', 'pattern': 'kannen'}]\n",
      "\n",
      "Unit pattern examples:\n",
      "[becher, blätter, bund, cm, dosen, el, g, gläser, handvoll, kannen]\n",
      "\n"
     ]
    }
   ],
   "source": [
    "UNITS = ingredients_df.unit.unique()\n",
    "\n",
    "(unit_entity_patterns, unit_matcher_patterns) = generate_patterns(nlp, UNITS, 'UNIT')\n",
    "\n",
    "pp('Unit entity examples:', unit_entity_patterns[0:10])\n",
    "pp('Unit pattern examples', unit_matcher_patterns[0:10])"
   ]
  },
  {
   "cell_type": "code",
   "execution_count": 66,
   "metadata": {},
   "outputs": [
    {
     "name": "stdout",
     "output_type": "stream",
     "text": [
      "Quantity entity examples::\n",
      "[   {'label': 'QUANTITY', 'pattern': '2.0'},\n",
      "    {'label': 'QUANTITY', 'pattern': '6.0'},\n",
      "    {'label': 'QUANTITY', 'pattern': '4.0'},\n",
      "    {'label': 'QUANTITY', 'pattern': '0.52'},\n",
      "    {'label': 'QUANTITY', 'pattern': '1.0'},\n",
      "    {'label': 'QUANTITY', 'pattern': '0.32'},\n",
      "    {'label': 'QUANTITY', 'pattern': '5.0'},\n",
      "    {'label': 'QUANTITY', 'pattern': '3.0'},\n",
      "    {'label': 'QUANTITY', 'pattern': '8.0'},\n",
      "    {'label': 'QUANTITY', 'pattern': '0.28'}]\n",
      "\n",
      "Quantity pattern examples:\n",
      "[2.0, 6.0, 4.0, 0.52, 1.0, 0.32, 5.0, 3.0, 8.0, 0.28]\n",
      "\n"
     ]
    }
   ],
   "source": [
    "QUANTITIES = ingredients_df.quantity.unique()\n",
    "\n",
    "(quantity_entity_patterns, quantity_matcher_patterns) = generate_patterns(nlp, QUANTITIES, 'QUANTITY')\n",
    "\n",
    "pp('Quantity entity examples:', quantity_entity_patterns[0:10])\n",
    "pp('Quantity pattern examples', quantity_matcher_patterns[0:10])"
   ]
  }
 ],
 "metadata": {
  "kernelspec": {
   "display_name": "conda_python3",
   "language": "python",
   "name": "conda_python3"
  },
  "language_info": {
   "codemirror_mode": {
    "name": "ipython",
    "version": 3
   },
   "file_extension": ".py",
   "mimetype": "text/x-python",
   "name": "python",
   "nbconvert_exporter": "python",
   "pygments_lexer": "ipython3",
   "version": "3.6.10"
  }
 },
 "nbformat": 4,
 "nbformat_minor": 4
}
