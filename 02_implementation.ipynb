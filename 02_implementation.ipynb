{
 "cells": [
  {
   "cell_type": "code",
   "execution_count": 1,
   "metadata": {},
   "outputs": [
    {
     "name": "stdout",
     "output_type": "stream",
     "text": [
      "Requirement already satisfied: pip in /home/ec2-user/anaconda3/envs/python3/lib/python3.6/site-packages (20.3.3)\n",
      "Collecting pip\n",
      "  Using cached pip-21.0.1-py3-none-any.whl (1.5 MB)\n",
      "Installing collected packages: pip\n",
      "  Attempting uninstall: pip\n",
      "    Found existing installation: pip 20.3.3\n",
      "    Uninstalling pip-20.3.3:\n",
      "      Successfully uninstalled pip-20.3.3\n",
      "Successfully installed pip-21.0.1\n",
      "Collecting spacy==2.3.5\n",
      "  Downloading spacy-2.3.5-cp36-cp36m-manylinux2014_x86_64.whl (10.4 MB)\n",
      "\u001b[K     |████████████████████████████████| 10.4 MB 16.5 MB/s eta 0:00:01\n",
      "\u001b[?25hCollecting srsly<1.1.0,>=1.0.2\n",
      "  Downloading srsly-1.0.5-cp36-cp36m-manylinux2014_x86_64.whl (184 kB)\n",
      "\u001b[K     |████████████████████████████████| 184 kB 48.5 MB/s eta 0:00:01\n",
      "\u001b[?25hCollecting murmurhash<1.1.0,>=0.28.0\n",
      "  Downloading murmurhash-1.0.5-cp36-cp36m-manylinux2014_x86_64.whl (20 kB)\n",
      "Collecting cymem<2.1.0,>=2.0.2\n",
      "  Downloading cymem-2.0.5-cp36-cp36m-manylinux2014_x86_64.whl (35 kB)\n",
      "Requirement already satisfied: numpy>=1.15.0 in /home/ec2-user/anaconda3/envs/python3/lib/python3.6/site-packages (from spacy==2.3.5) (1.19.5)\n",
      "Requirement already satisfied: setuptools in /home/ec2-user/anaconda3/envs/python3/lib/python3.6/site-packages (from spacy==2.3.5) (51.1.2)\n",
      "Requirement already satisfied: tqdm<5.0.0,>=4.38.0 in /home/ec2-user/anaconda3/envs/python3/lib/python3.6/site-packages (from spacy==2.3.5) (4.42.1)\n",
      "Collecting thinc<7.5.0,>=7.4.1\n",
      "  Downloading thinc-7.4.5-cp36-cp36m-manylinux2014_x86_64.whl (1.1 MB)\n",
      "\u001b[K     |████████████████████████████████| 1.1 MB 53.6 MB/s eta 0:00:01\n",
      "\u001b[?25hCollecting plac<1.2.0,>=0.9.6\n",
      "  Downloading plac-1.1.3-py2.py3-none-any.whl (20 kB)\n",
      "Collecting wasabi<1.1.0,>=0.4.0\n",
      "  Downloading wasabi-0.8.2-py3-none-any.whl (23 kB)\n",
      "Collecting blis<0.8.0,>=0.4.0\n",
      "  Downloading blis-0.7.4-cp36-cp36m-manylinux2014_x86_64.whl (9.8 MB)\n",
      "\u001b[K     |████████████████████████████████| 9.8 MB 33.4 MB/s eta 0:00:01\n",
      "\u001b[?25hCollecting preshed<3.1.0,>=3.0.2\n",
      "  Downloading preshed-3.0.5-cp36-cp36m-manylinux2014_x86_64.whl (126 kB)\n",
      "\u001b[K     |████████████████████████████████| 126 kB 74.9 MB/s eta 0:00:01\n",
      "\u001b[?25hCollecting catalogue<1.1.0,>=0.0.7\n",
      "  Downloading catalogue-1.0.0-py2.py3-none-any.whl (7.7 kB)\n",
      "Requirement already satisfied: requests<3.0.0,>=2.13.0 in /home/ec2-user/anaconda3/envs/python3/lib/python3.6/site-packages (from spacy==2.3.5) (2.25.1)\n",
      "Requirement already satisfied: importlib-metadata>=0.20 in /home/ec2-user/anaconda3/envs/python3/lib/python3.6/site-packages (from catalogue<1.1.0,>=0.0.7->spacy==2.3.5) (3.4.0)\n",
      "Requirement already satisfied: typing-extensions>=3.6.4 in /home/ec2-user/anaconda3/envs/python3/lib/python3.6/site-packages (from importlib-metadata>=0.20->catalogue<1.1.0,>=0.0.7->spacy==2.3.5) (3.7.4.3)\n",
      "Requirement already satisfied: zipp>=0.5 in /home/ec2-user/anaconda3/envs/python3/lib/python3.6/site-packages (from importlib-metadata>=0.20->catalogue<1.1.0,>=0.0.7->spacy==2.3.5) (3.4.0)\n",
      "Requirement already satisfied: chardet<5,>=3.0.2 in /home/ec2-user/anaconda3/envs/python3/lib/python3.6/site-packages (from requests<3.0.0,>=2.13.0->spacy==2.3.5) (4.0.0)\n",
      "Requirement already satisfied: certifi>=2017.4.17 in /home/ec2-user/anaconda3/envs/python3/lib/python3.6/site-packages (from requests<3.0.0,>=2.13.0->spacy==2.3.5) (2020.12.5)\n",
      "Requirement already satisfied: idna<3,>=2.5 in /home/ec2-user/anaconda3/envs/python3/lib/python3.6/site-packages (from requests<3.0.0,>=2.13.0->spacy==2.3.5) (2.10)\n",
      "Requirement already satisfied: urllib3<1.27,>=1.21.1 in /home/ec2-user/anaconda3/envs/python3/lib/python3.6/site-packages (from requests<3.0.0,>=2.13.0->spacy==2.3.5) (1.26.2)\n",
      "Installing collected packages: murmurhash, cymem, wasabi, srsly, preshed, plac, catalogue, blis, thinc, spacy\n",
      "Successfully installed blis-0.7.4 catalogue-1.0.0 cymem-2.0.5 murmurhash-1.0.5 plac-1.1.3 preshed-3.0.5 spacy-2.3.5 srsly-1.0.5 thinc-7.4.5 wasabi-0.8.2\n",
      "Collecting en_core_web_sm==2.3.1\n",
      "  Downloading https://github.com/explosion/spacy-models/releases/download/en_core_web_sm-2.3.1/en_core_web_sm-2.3.1.tar.gz (12.0 MB)\n",
      "\u001b[K     |████████████████████████████████| 12.0 MB 6.9 MB/s eta 0:00:01\n",
      "\u001b[?25hRequirement already satisfied: spacy<2.4.0,>=2.3.0 in /home/ec2-user/anaconda3/envs/python3/lib/python3.6/site-packages (from en_core_web_sm==2.3.1) (2.3.5)\n",
      "Requirement already satisfied: srsly<1.1.0,>=1.0.2 in /home/ec2-user/anaconda3/envs/python3/lib/python3.6/site-packages (from spacy<2.4.0,>=2.3.0->en_core_web_sm==2.3.1) (1.0.5)\n",
      "Requirement already satisfied: blis<0.8.0,>=0.4.0 in /home/ec2-user/anaconda3/envs/python3/lib/python3.6/site-packages (from spacy<2.4.0,>=2.3.0->en_core_web_sm==2.3.1) (0.7.4)\n",
      "Requirement already satisfied: catalogue<1.1.0,>=0.0.7 in /home/ec2-user/anaconda3/envs/python3/lib/python3.6/site-packages (from spacy<2.4.0,>=2.3.0->en_core_web_sm==2.3.1) (1.0.0)\n",
      "Requirement already satisfied: tqdm<5.0.0,>=4.38.0 in /home/ec2-user/anaconda3/envs/python3/lib/python3.6/site-packages (from spacy<2.4.0,>=2.3.0->en_core_web_sm==2.3.1) (4.42.1)\n",
      "Requirement already satisfied: murmurhash<1.1.0,>=0.28.0 in /home/ec2-user/anaconda3/envs/python3/lib/python3.6/site-packages (from spacy<2.4.0,>=2.3.0->en_core_web_sm==2.3.1) (1.0.5)\n",
      "Requirement already satisfied: preshed<3.1.0,>=3.0.2 in /home/ec2-user/anaconda3/envs/python3/lib/python3.6/site-packages (from spacy<2.4.0,>=2.3.0->en_core_web_sm==2.3.1) (3.0.5)\n",
      "Requirement already satisfied: plac<1.2.0,>=0.9.6 in /home/ec2-user/anaconda3/envs/python3/lib/python3.6/site-packages (from spacy<2.4.0,>=2.3.0->en_core_web_sm==2.3.1) (1.1.3)\n",
      "Requirement already satisfied: thinc<7.5.0,>=7.4.1 in /home/ec2-user/anaconda3/envs/python3/lib/python3.6/site-packages (from spacy<2.4.0,>=2.3.0->en_core_web_sm==2.3.1) (7.4.5)\n",
      "Requirement already satisfied: wasabi<1.1.0,>=0.4.0 in /home/ec2-user/anaconda3/envs/python3/lib/python3.6/site-packages (from spacy<2.4.0,>=2.3.0->en_core_web_sm==2.3.1) (0.8.2)\n",
      "Requirement already satisfied: numpy>=1.15.0 in /home/ec2-user/anaconda3/envs/python3/lib/python3.6/site-packages (from spacy<2.4.0,>=2.3.0->en_core_web_sm==2.3.1) (1.19.5)\n",
      "Requirement already satisfied: requests<3.0.0,>=2.13.0 in /home/ec2-user/anaconda3/envs/python3/lib/python3.6/site-packages (from spacy<2.4.0,>=2.3.0->en_core_web_sm==2.3.1) (2.25.1)\n",
      "Requirement already satisfied: cymem<2.1.0,>=2.0.2 in /home/ec2-user/anaconda3/envs/python3/lib/python3.6/site-packages (from spacy<2.4.0,>=2.3.0->en_core_web_sm==2.3.1) (2.0.5)\n",
      "Requirement already satisfied: setuptools in /home/ec2-user/anaconda3/envs/python3/lib/python3.6/site-packages (from spacy<2.4.0,>=2.3.0->en_core_web_sm==2.3.1) (51.1.2)\n",
      "Requirement already satisfied: importlib-metadata>=0.20 in /home/ec2-user/anaconda3/envs/python3/lib/python3.6/site-packages (from catalogue<1.1.0,>=0.0.7->spacy<2.4.0,>=2.3.0->en_core_web_sm==2.3.1) (3.4.0)\n",
      "Requirement already satisfied: zipp>=0.5 in /home/ec2-user/anaconda3/envs/python3/lib/python3.6/site-packages (from importlib-metadata>=0.20->catalogue<1.1.0,>=0.0.7->spacy<2.4.0,>=2.3.0->en_core_web_sm==2.3.1) (3.4.0)\n",
      "Requirement already satisfied: typing-extensions>=3.6.4 in /home/ec2-user/anaconda3/envs/python3/lib/python3.6/site-packages (from importlib-metadata>=0.20->catalogue<1.1.0,>=0.0.7->spacy<2.4.0,>=2.3.0->en_core_web_sm==2.3.1) (3.7.4.3)\n",
      "Requirement already satisfied: urllib3<1.27,>=1.21.1 in /home/ec2-user/anaconda3/envs/python3/lib/python3.6/site-packages (from requests<3.0.0,>=2.13.0->spacy<2.4.0,>=2.3.0->en_core_web_sm==2.3.1) (1.26.2)\n",
      "Requirement already satisfied: idna<3,>=2.5 in /home/ec2-user/anaconda3/envs/python3/lib/python3.6/site-packages (from requests<3.0.0,>=2.13.0->spacy<2.4.0,>=2.3.0->en_core_web_sm==2.3.1) (2.10)\n",
      "Requirement already satisfied: certifi>=2017.4.17 in /home/ec2-user/anaconda3/envs/python3/lib/python3.6/site-packages (from requests<3.0.0,>=2.13.0->spacy<2.4.0,>=2.3.0->en_core_web_sm==2.3.1) (2020.12.5)\n",
      "Requirement already satisfied: chardet<5,>=3.0.2 in /home/ec2-user/anaconda3/envs/python3/lib/python3.6/site-packages (from requests<3.0.0,>=2.13.0->spacy<2.4.0,>=2.3.0->en_core_web_sm==2.3.1) (4.0.0)\n",
      "Building wheels for collected packages: en-core-web-sm\n",
      "  Building wheel for en-core-web-sm (setup.py) ... \u001b[?25ldone\n",
      "\u001b[?25h  Created wheel for en-core-web-sm: filename=en_core_web_sm-2.3.1-py3-none-any.whl size=12047105 sha256=1aafc49c2c6d5671ab5952b67890ae6fb3116b598468abd4dd83c6f0f99854b7\n",
      "  Stored in directory: /tmp/pip-ephem-wheel-cache-m8xyx0d4/wheels/10/6f/a6/ddd8204ceecdedddea923f8514e13afb0c1f0f556d2c9c3da0\n",
      "Successfully built en-core-web-sm\n",
      "Installing collected packages: en-core-web-sm\n",
      "Successfully installed en-core-web-sm-2.3.1\n",
      "\u001b[38;5;2m✔ Download and installation successful\u001b[0m\n",
      "You can now load the model via spacy.load('en_core_web_sm')\n"
     ]
    }
   ],
   "source": [
    "!python -m pip install --upgrade pip\n",
    "!pip install spacy==2.3.5\n",
    "!python -m spacy download en_core_web_sm"
   ]
  },
  {
   "cell_type": "code",
   "execution_count": 2,
   "metadata": {},
   "outputs": [],
   "source": [
    "import pandas as pd"
   ]
  },
  {
   "cell_type": "code",
   "execution_count": 3,
   "metadata": {},
   "outputs": [
    {
     "name": "stdout",
     "output_type": "stream",
     "text": [
      "Total number of rows: 573\n"
     ]
    },
    {
     "data": {
      "text/html": [
       "<div>\n",
       "<style scoped>\n",
       "    .dataframe tbody tr th:only-of-type {\n",
       "        vertical-align: middle;\n",
       "    }\n",
       "\n",
       "    .dataframe tbody tr th {\n",
       "        vertical-align: top;\n",
       "    }\n",
       "\n",
       "    .dataframe thead th {\n",
       "        text-align: right;\n",
       "    }\n",
       "</style>\n",
       "<table border=\"1\" class=\"dataframe\">\n",
       "  <thead>\n",
       "    <tr style=\"text-align: right;\">\n",
       "      <th></th>\n",
       "      <th>ingredient</th>\n",
       "      <th>quantity</th>\n",
       "      <th>unit</th>\n",
       "      <th>name</th>\n",
       "    </tr>\n",
       "  </thead>\n",
       "  <tbody>\n",
       "    <tr>\n",
       "      <th>0</th>\n",
       "      <td>2.00 Becher süße Sahne</td>\n",
       "      <td>2.00</td>\n",
       "      <td>Becher</td>\n",
       "      <td>süße Sahne</td>\n",
       "    </tr>\n",
       "    <tr>\n",
       "      <th>1</th>\n",
       "      <td>6.00 Blätter Basilikum</td>\n",
       "      <td>6.00</td>\n",
       "      <td>Blätter</td>\n",
       "      <td>Basilikum</td>\n",
       "    </tr>\n",
       "    <tr>\n",
       "      <th>2</th>\n",
       "      <td>4.00 Blätter Petersilie</td>\n",
       "      <td>4.00</td>\n",
       "      <td>Blätter</td>\n",
       "      <td>Petersilie</td>\n",
       "    </tr>\n",
       "    <tr>\n",
       "      <th>3</th>\n",
       "      <td>0.52 Bund Minze</td>\n",
       "      <td>0.52</td>\n",
       "      <td>Bund</td>\n",
       "      <td>Minze</td>\n",
       "    </tr>\n",
       "    <tr>\n",
       "      <th>4</th>\n",
       "      <td>0.52 Bund Petersilie</td>\n",
       "      <td>0.52</td>\n",
       "      <td>Bund</td>\n",
       "      <td>Petersilie</td>\n",
       "    </tr>\n",
       "    <tr>\n",
       "      <th>5</th>\n",
       "      <td>1.00 Bund Frühlingszwiebeln</td>\n",
       "      <td>1.00</td>\n",
       "      <td>Bund</td>\n",
       "      <td>Frühlingszwiebeln</td>\n",
       "    </tr>\n",
       "    <tr>\n",
       "      <th>6</th>\n",
       "      <td>0.52 Bund Petersilie</td>\n",
       "      <td>0.52</td>\n",
       "      <td>Bund</td>\n",
       "      <td>Petersilie</td>\n",
       "    </tr>\n",
       "    <tr>\n",
       "      <th>7</th>\n",
       "      <td>1.00 Bund Frühlingszwiebeln</td>\n",
       "      <td>1.00</td>\n",
       "      <td>Bund</td>\n",
       "      <td>Frühlingszwiebeln</td>\n",
       "    </tr>\n",
       "    <tr>\n",
       "      <th>8</th>\n",
       "      <td>1.00 Bund Koriander</td>\n",
       "      <td>1.00</td>\n",
       "      <td>Bund</td>\n",
       "      <td>Koriander</td>\n",
       "    </tr>\n",
       "    <tr>\n",
       "      <th>9</th>\n",
       "      <td>0.52 Bund Petersilie</td>\n",
       "      <td>0.52</td>\n",
       "      <td>Bund</td>\n",
       "      <td>Petersilie</td>\n",
       "    </tr>\n",
       "  </tbody>\n",
       "</table>\n",
       "</div>"
      ],
      "text/plain": [
       "                    ingredient  quantity     unit               name\n",
       "0       2.00 Becher süße Sahne      2.00   Becher         süße Sahne\n",
       "1       6.00 Blätter Basilikum      6.00  Blätter          Basilikum\n",
       "2      4.00 Blätter Petersilie      4.00  Blätter         Petersilie\n",
       "3              0.52 Bund Minze      0.52     Bund              Minze\n",
       "4         0.52 Bund Petersilie      0.52     Bund         Petersilie\n",
       "5  1.00 Bund Frühlingszwiebeln      1.00     Bund  Frühlingszwiebeln\n",
       "6         0.52 Bund Petersilie      0.52     Bund         Petersilie\n",
       "7  1.00 Bund Frühlingszwiebeln      1.00     Bund  Frühlingszwiebeln\n",
       "8          1.00 Bund Koriander      1.00     Bund          Koriander\n",
       "9         0.52 Bund Petersilie      0.52     Bund         Petersilie"
      ]
     },
     "execution_count": 3,
     "metadata": {},
     "output_type": "execute_result"
    }
   ],
   "source": [
    "csv_file = 'data/data.csv'\n",
    "ingredients_df = pd.read_csv(csv_file)\n",
    "\n",
    "print(f\"Total number of rows: {len(ingredients_df.index)}\")\n",
    "\n",
    "# print out the first few rows of data info\n",
    "ingredients_df.head(10)"
   ]
  },
  {
   "cell_type": "code",
   "execution_count": 4,
   "metadata": {},
   "outputs": [
    {
     "name": "stdout",
     "output_type": "stream",
     "text": [
      "Apple 0 5 ORG\n",
      "U.K. 27 31 GPE\n",
      "$1 billion 44 54 MONEY\n"
     ]
    }
   ],
   "source": [
    "import spacy\n",
    "import en_core_web_sm\n",
    "\n",
    "nlp = en_core_web_sm.load()\n",
    "doc = nlp(\"Apple is looking at buying U.K. startup for $1 billion\")\n",
    "\n",
    "for ent in doc.ents:\n",
    "    print(ent.text, ent.start_char, ent.end_char, ent.label_)"
   ]
  },
  {
   "cell_type": "code",
   "execution_count": 5,
   "metadata": {},
   "outputs": [],
   "source": [
    "import pprint\n",
    "pprinter = pprint.PrettyPrinter(indent=4)"
   ]
  },
  {
   "cell_type": "code",
   "execution_count": 6,
   "metadata": {},
   "outputs": [],
   "source": [
    "from spacy.lang.de import German\n",
    "from spacy.matcher import PhraseMatcher\n",
    "\n",
    "nlp = German()\n",
    "\n",
    "def pp(title, obj, newline=True):\n",
    "    print(f'{title}:')\n",
    "    pprinter.pprint(obj)\n",
    "    if(newline):\n",
    "        print()\n",
    "\n",
    "def generate_patterns(nlp, series, label):\n",
    "    entity_patterns = []\n",
    "    matcher_patterns = []\n",
    "    \n",
    "    for item in series:\n",
    "        pattern = item.lower() if isinstance(item, str) else str(item)\n",
    "        entity_patterns.append({'label': label, 'pattern': pattern})\n",
    "        matcher_patterns.append(nlp.make_doc(pattern))\n",
    "    \n",
    "    return (entity_patterns, matcher_patterns)"
   ]
  },
  {
   "cell_type": "markdown",
   "metadata": {},
   "source": [
    "# 1. Generate patterns\n",
    "We are going to generate patterns we can use for automatically labeling our training data using spacy."
   ]
  },
  {
   "cell_type": "code",
   "execution_count": 7,
   "metadata": {},
   "outputs": [
    {
     "name": "stdout",
     "output_type": "stream",
     "text": [
      "Unit entity examples::\n",
      "[   {'label': 'UNIT', 'pattern': 'becher'},\n",
      "    {'label': 'UNIT', 'pattern': 'blätter'},\n",
      "    {'label': 'UNIT', 'pattern': 'bund'},\n",
      "    {'label': 'UNIT', 'pattern': 'cm'},\n",
      "    {'label': 'UNIT', 'pattern': 'dosen'},\n",
      "    {'label': 'UNIT', 'pattern': 'el'},\n",
      "    {'label': 'UNIT', 'pattern': 'g'},\n",
      "    {'label': 'UNIT', 'pattern': 'gläser'},\n",
      "    {'label': 'UNIT', 'pattern': 'handvoll'},\n",
      "    {'label': 'UNIT', 'pattern': 'kannen'}]\n",
      "\n",
      "Unit pattern examples:\n",
      "[becher, blätter, bund, cm, dosen, el, g, gläser, handvoll, kannen]\n",
      "\n"
     ]
    }
   ],
   "source": [
    "UNITS = ingredients_df.unit.unique()\n",
    "\n",
    "(unit_entity_patterns, unit_matcher_patterns) = generate_patterns(nlp, UNITS, 'UNIT')\n",
    "\n",
    "pp('Unit entity examples:', unit_entity_patterns[0:10])\n",
    "pp('Unit pattern examples', unit_matcher_patterns[0:10])"
   ]
  },
  {
   "cell_type": "code",
   "execution_count": 8,
   "metadata": {},
   "outputs": [
    {
     "name": "stdout",
     "output_type": "stream",
     "text": [
      "Quantity entity examples::\n",
      "[   {'label': 'QUANTITY', 'pattern': '2.0'},\n",
      "    {'label': 'QUANTITY', 'pattern': '6.0'},\n",
      "    {'label': 'QUANTITY', 'pattern': '4.0'},\n",
      "    {'label': 'QUANTITY', 'pattern': '0.52'},\n",
      "    {'label': 'QUANTITY', 'pattern': '1.0'},\n",
      "    {'label': 'QUANTITY', 'pattern': '0.32'},\n",
      "    {'label': 'QUANTITY', 'pattern': '5.0'},\n",
      "    {'label': 'QUANTITY', 'pattern': '3.0'},\n",
      "    {'label': 'QUANTITY', 'pattern': '8.0'},\n",
      "    {'label': 'QUANTITY', 'pattern': '0.28'}]\n",
      "\n",
      "Quantity pattern examples:\n",
      "[2.0, 6.0, 4.0, 0.52, 1.0, 0.32, 5.0, 3.0, 8.0, 0.28]\n",
      "\n"
     ]
    }
   ],
   "source": [
    "QUANTITIES = ingredients_df.quantity.unique()\n",
    "\n",
    "(quantity_entity_patterns, quantity_matcher_patterns) = generate_patterns(nlp, QUANTITIES, 'QUANTITY')\n",
    "\n",
    "pp('Quantity entity examples:', quantity_entity_patterns[0:10])\n",
    "pp('Quantity pattern examples', quantity_matcher_patterns[0:10])"
   ]
  },
  {
   "cell_type": "code",
   "execution_count": 9,
   "metadata": {},
   "outputs": [
    {
     "name": "stdout",
     "output_type": "stream",
     "text": [
      "Ingredient entity examples::\n",
      "[   {'label': 'INGREDIENT', 'pattern': 'süße sahne'},\n",
      "    {'label': 'INGREDIENT', 'pattern': 'basilikum'},\n",
      "    {'label': 'INGREDIENT', 'pattern': 'petersilie'},\n",
      "    {'label': 'INGREDIENT', 'pattern': 'minze'},\n",
      "    {'label': 'INGREDIENT', 'pattern': 'frühlingszwiebeln'},\n",
      "    {'label': 'INGREDIENT', 'pattern': 'koriander'},\n",
      "    {'label': 'INGREDIENT', 'pattern': 'ingwer'},\n",
      "    {'label': 'INGREDIENT', 'pattern': 'kichererbsen'},\n",
      "    {'label': 'INGREDIENT', 'pattern': 'thunfisch'},\n",
      "    {'label': 'INGREDIENT', 'pattern': 'geschälte tomaten'}]\n",
      "\n",
      "Ingredient pattern examples:\n",
      "[   süße sahne,\n",
      "    basilikum,\n",
      "    petersilie,\n",
      "    minze,\n",
      "    frühlingszwiebeln,\n",
      "    koriander,\n",
      "    ingwer,\n",
      "    kichererbsen,\n",
      "    thunfisch,\n",
      "    geschälte tomaten]\n",
      "\n"
     ]
    }
   ],
   "source": [
    "INGREDIENTS = ingredients_df.name.unique()\n",
    "\n",
    "(ingredient_entity_patterns, ingredient_matcher_patterns) = generate_patterns(nlp, INGREDIENTS, 'INGREDIENT')\n",
    "\n",
    "pp('Ingredient entity examples:', ingredient_entity_patterns[0:10])\n",
    "pp('Ingredient pattern examples', ingredient_matcher_patterns[0:10])"
   ]
  },
  {
   "cell_type": "markdown",
   "metadata": {},
   "source": [
    "# 2. Create Training Data\n",
    "Now we are going to loop through all the texts in the ingredient column and mark each part (quantity, unit and name) as different entities using the patterns we generated in step 1."
   ]
  },
  {
   "cell_type": "code",
   "execution_count": 11,
   "metadata": {},
   "outputs": [
    {
     "name": "stdout",
     "output_type": "stream",
     "text": [
      "train set: 343 examples\n",
      "  dev set: 115 examples\n",
      " test set: 115 examples\n"
     ]
    }
   ],
   "source": [
    "from sklearn.model_selection import train_test_split\n",
    "\n",
    "# Number of examples - train: 343 - dev: 115 - test: 115\n",
    "TRAIN_DEV_DATA, TEST_DATA = train_test_split(ingredients_df, test_size=0.2)\n",
    "TRAIN_DATA, DEV_DATA = train_test_split(TRAIN_DEV_DATA, test_size=0.25)\n",
    "\n",
    "print(f'train set: {len(TRAIN_DATA)} examples') # 343\n",
    "print(f'  dev set: {len(DEV_DATA)} examples')   # 115\n",
    "print(f' test set: {len(TEST_DATA)} examples')  # 115\n",
    "\n",
    "TRAIN_DATA = []"
   ]
  },
  {
   "cell_type": "markdown",
   "metadata": {},
   "source": [
    "# 3. Define a Metric\n",
    "\n",
    "Different types of metrics:\n",
    "1. accuracy:\n",
    "  - `(true positives + true negatives) / total`\n",
    "  - correctly predicted / total\n",
    "2. recall:\n",
    "  - `true positives / (true positives + false negatives)`\n",
    "  - words correctly identified as entities / all words that are entities\n",
    "  - How many relevant items are selected?\n",
    "3. precision:\n",
    "  - `true positives / (true positives + false positives)`\n",
    "  - words correctly identified as entities / words correctly and incorrectly identified as entities\n",
    "  - How many selected items are relevant?\n",
    "\n",
    "`Accuracy` can be misleading if we have imbalanced data.\n",
    "\n",
    "`Recall` is in our case more important than `precision`, since we want to catch all ingredients,\n",
    "and we don't care if some non-ingredients are marked as such, we can just delete them later in the app with a\n",
    "single click of a button. On the other hand not recognizing ingredients would force us to type them manually.\n",
    "\n",
    "We still don't want to have too many non-ingredients in our ingredient's list though, so we could to use the `F1-Score`\n",
    "which combines `recall` and `precision` as a metric for our problem.\n",
    "\n",
    "Another approach could be to use precision as a **satisficing metric** and recall as an **optimizing metric**."
   ]
  }
 ],
 "metadata": {
  "kernelspec": {
   "display_name": "conda_python3",
   "language": "python",
   "name": "conda_python3"
  },
  "language_info": {
   "codemirror_mode": {
    "name": "ipython",
    "version": 3
   },
   "file_extension": ".py",
   "mimetype": "text/x-python",
   "name": "python",
   "nbconvert_exporter": "python",
   "pygments_lexer": "ipython3",
   "version": "3.6.10"
  }
 },
 "nbformat": 4,
 "nbformat_minor": 4
}
