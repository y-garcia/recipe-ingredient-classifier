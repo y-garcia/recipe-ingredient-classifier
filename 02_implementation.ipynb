{
 "cells": [
  {
   "cell_type": "code",
   "execution_count": 1,
   "metadata": {},
   "outputs": [
    {
     "name": "stdout",
     "output_type": "stream",
     "text": [
      "Requirement already satisfied: pip in /home/ec2-user/anaconda3/envs/python3/lib/python3.6/site-packages (21.1.2)\n",
      "Collecting pip\n",
      "  Downloading pip-21.2.2-py3-none-any.whl (1.6 MB)\n",
      "\u001b[K     |████████████████████████████████| 1.6 MB 20.7 MB/s eta 0:00:01\n",
      "\u001b[?25hInstalling collected packages: pip\n",
      "  Attempting uninstall: pip\n",
      "    Found existing installation: pip 21.1.2\n",
      "    Uninstalling pip-21.1.2:\n",
      "      Successfully uninstalled pip-21.1.2\n",
      "Successfully installed pip-21.2.2\n",
      "Collecting spacy==2.3.5\n",
      "  Downloading spacy-2.3.5-cp36-cp36m-manylinux2014_x86_64.whl (10.4 MB)\n",
      "\u001b[K     |████████████████████████████████| 10.4 MB 18.2 MB/s eta 0:00:01\n",
      "\u001b[?25hCollecting catalogue<1.1.0,>=0.0.7\n",
      "  Downloading catalogue-1.0.0-py2.py3-none-any.whl (7.7 kB)\n",
      "Collecting wasabi<1.1.0,>=0.4.0\n",
      "  Downloading wasabi-0.8.2-py3-none-any.whl (23 kB)\n",
      "Collecting plac<1.2.0,>=0.9.6\n",
      "  Downloading plac-1.1.3-py2.py3-none-any.whl (20 kB)\n",
      "Collecting cymem<2.1.0,>=2.0.2\n",
      "  Downloading cymem-2.0.5-cp36-cp36m-manylinux2014_x86_64.whl (35 kB)\n",
      "Collecting srsly<1.1.0,>=1.0.2\n",
      "  Downloading srsly-1.0.5-cp36-cp36m-manylinux2014_x86_64.whl (184 kB)\n",
      "\u001b[K     |████████████████████████████████| 184 kB 71.9 MB/s eta 0:00:01\n",
      "\u001b[?25hCollecting blis<0.8.0,>=0.4.0\n",
      "  Downloading blis-0.7.4-cp36-cp36m-manylinux2014_x86_64.whl (9.8 MB)\n",
      "\u001b[K     |████████████████████████████████| 9.8 MB 62.2 MB/s eta 0:00:01\n",
      "\u001b[?25hCollecting tqdm<5.0.0,>=4.38.0\n",
      "  Downloading tqdm-4.62.0-py2.py3-none-any.whl (76 kB)\n",
      "\u001b[K     |████████████████████████████████| 76 kB 1.5 MB/s  eta 0:00:01\n",
      "\u001b[?25hRequirement already satisfied: numpy>=1.15.0 in /home/ec2-user/anaconda3/envs/python3/lib/python3.6/site-packages (from spacy==2.3.5) (1.19.5)\n",
      "Requirement already satisfied: setuptools in /home/ec2-user/anaconda3/envs/python3/lib/python3.6/site-packages (from spacy==2.3.5) (49.6.0.post20210108)\n",
      "Requirement already satisfied: requests<3.0.0,>=2.13.0 in /home/ec2-user/anaconda3/envs/python3/lib/python3.6/site-packages (from spacy==2.3.5) (2.25.1)\n",
      "Collecting preshed<3.1.0,>=3.0.2\n",
      "  Downloading preshed-3.0.5-cp36-cp36m-manylinux2014_x86_64.whl (126 kB)\n",
      "\u001b[K     |████████████████████████████████| 126 kB 74.3 MB/s eta 0:00:01\n",
      "\u001b[?25hCollecting murmurhash<1.1.0,>=0.28.0\n",
      "  Downloading murmurhash-1.0.5-cp36-cp36m-manylinux2014_x86_64.whl (20 kB)\n",
      "Collecting thinc<7.5.0,>=7.4.1\n",
      "  Downloading thinc-7.4.5-cp36-cp36m-manylinux2014_x86_64.whl (1.1 MB)\n",
      "\u001b[K     |████████████████████████████████| 1.1 MB 64.0 MB/s eta 0:00:01\n",
      "\u001b[?25hRequirement already satisfied: importlib-metadata>=0.20 in /home/ec2-user/anaconda3/envs/python3/lib/python3.6/site-packages (from catalogue<1.1.0,>=0.0.7->spacy==2.3.5) (3.7.0)\n",
      "Requirement already satisfied: zipp>=0.5 in /home/ec2-user/anaconda3/envs/python3/lib/python3.6/site-packages (from importlib-metadata>=0.20->catalogue<1.1.0,>=0.0.7->spacy==2.3.5) (3.4.0)\n",
      "Requirement already satisfied: typing-extensions>=3.6.4 in /home/ec2-user/anaconda3/envs/python3/lib/python3.6/site-packages (from importlib-metadata>=0.20->catalogue<1.1.0,>=0.0.7->spacy==2.3.5) (3.7.4.3)\n",
      "Requirement already satisfied: chardet<5,>=3.0.2 in /home/ec2-user/anaconda3/envs/python3/lib/python3.6/site-packages (from requests<3.0.0,>=2.13.0->spacy==2.3.5) (3.0.4)\n",
      "Requirement already satisfied: certifi>=2017.4.17 in /home/ec2-user/anaconda3/envs/python3/lib/python3.6/site-packages (from requests<3.0.0,>=2.13.0->spacy==2.3.5) (2021.5.30)\n",
      "Requirement already satisfied: idna<3,>=2.5 in /home/ec2-user/anaconda3/envs/python3/lib/python3.6/site-packages (from requests<3.0.0,>=2.13.0->spacy==2.3.5) (2.10)\n",
      "Requirement already satisfied: urllib3<1.27,>=1.21.1 in /home/ec2-user/anaconda3/envs/python3/lib/python3.6/site-packages (from requests<3.0.0,>=2.13.0->spacy==2.3.5) (1.26.5)\n",
      "Installing collected packages: murmurhash, cymem, wasabi, tqdm, srsly, preshed, plac, catalogue, blis, thinc, spacy\n",
      "Successfully installed blis-0.7.4 catalogue-1.0.0 cymem-2.0.5 murmurhash-1.0.5 plac-1.1.3 preshed-3.0.5 spacy-2.3.5 srsly-1.0.5 thinc-7.4.5 tqdm-4.62.0 wasabi-0.8.2\n",
      "Collecting spacy-lookups-data\n",
      "  Downloading spacy_lookups_data-1.0.2-py2.py3-none-any.whl (97.3 MB)\n",
      "\u001b[K     |████████████████████████████████| 97.3 MB 80.9 MB/s eta 0:00:01\n",
      "\u001b[?25hRequirement already satisfied: setuptools in /home/ec2-user/anaconda3/envs/python3/lib/python3.6/site-packages (from spacy-lookups-data) (49.6.0.post20210108)\n",
      "Installing collected packages: spacy-lookups-data\n",
      "Successfully installed spacy-lookups-data-1.0.2\n",
      "Collecting de_core_news_sm==2.3.0\n",
      "  Downloading https://github.com/explosion/spacy-models/releases/download/de_core_news_sm-2.3.0/de_core_news_sm-2.3.0.tar.gz (14.9 MB)\n",
      "\u001b[K     |████████████████████████████████| 14.9 MB 4.2 MB/s eta 0:00:01\n",
      "\u001b[?25hRequirement already satisfied: spacy<2.4.0,>=2.3.0 in /home/ec2-user/anaconda3/envs/python3/lib/python3.6/site-packages (from de_core_news_sm==2.3.0) (2.3.5)\n",
      "Requirement already satisfied: srsly<1.1.0,>=1.0.2 in /home/ec2-user/anaconda3/envs/python3/lib/python3.6/site-packages (from spacy<2.4.0,>=2.3.0->de_core_news_sm==2.3.0) (1.0.5)\n",
      "Requirement already satisfied: requests<3.0.0,>=2.13.0 in /home/ec2-user/anaconda3/envs/python3/lib/python3.6/site-packages (from spacy<2.4.0,>=2.3.0->de_core_news_sm==2.3.0) (2.25.1)\n",
      "Requirement already satisfied: plac<1.2.0,>=0.9.6 in /home/ec2-user/anaconda3/envs/python3/lib/python3.6/site-packages (from spacy<2.4.0,>=2.3.0->de_core_news_sm==2.3.0) (1.1.3)\n",
      "Requirement already satisfied: catalogue<1.1.0,>=0.0.7 in /home/ec2-user/anaconda3/envs/python3/lib/python3.6/site-packages (from spacy<2.4.0,>=2.3.0->de_core_news_sm==2.3.0) (1.0.0)\n",
      "Requirement already satisfied: preshed<3.1.0,>=3.0.2 in /home/ec2-user/anaconda3/envs/python3/lib/python3.6/site-packages (from spacy<2.4.0,>=2.3.0->de_core_news_sm==2.3.0) (3.0.5)\n",
      "Requirement already satisfied: wasabi<1.1.0,>=0.4.0 in /home/ec2-user/anaconda3/envs/python3/lib/python3.6/site-packages (from spacy<2.4.0,>=2.3.0->de_core_news_sm==2.3.0) (0.8.2)\n",
      "Requirement already satisfied: setuptools in /home/ec2-user/anaconda3/envs/python3/lib/python3.6/site-packages (from spacy<2.4.0,>=2.3.0->de_core_news_sm==2.3.0) (49.6.0.post20210108)\n",
      "Requirement already satisfied: numpy>=1.15.0 in /home/ec2-user/anaconda3/envs/python3/lib/python3.6/site-packages (from spacy<2.4.0,>=2.3.0->de_core_news_sm==2.3.0) (1.19.5)\n",
      "Requirement already satisfied: blis<0.8.0,>=0.4.0 in /home/ec2-user/anaconda3/envs/python3/lib/python3.6/site-packages (from spacy<2.4.0,>=2.3.0->de_core_news_sm==2.3.0) (0.7.4)\n",
      "Requirement already satisfied: tqdm<5.0.0,>=4.38.0 in /home/ec2-user/anaconda3/envs/python3/lib/python3.6/site-packages (from spacy<2.4.0,>=2.3.0->de_core_news_sm==2.3.0) (4.62.0)\n",
      "Requirement already satisfied: cymem<2.1.0,>=2.0.2 in /home/ec2-user/anaconda3/envs/python3/lib/python3.6/site-packages (from spacy<2.4.0,>=2.3.0->de_core_news_sm==2.3.0) (2.0.5)\n",
      "Requirement already satisfied: murmurhash<1.1.0,>=0.28.0 in /home/ec2-user/anaconda3/envs/python3/lib/python3.6/site-packages (from spacy<2.4.0,>=2.3.0->de_core_news_sm==2.3.0) (1.0.5)\n",
      "Requirement already satisfied: thinc<7.5.0,>=7.4.1 in /home/ec2-user/anaconda3/envs/python3/lib/python3.6/site-packages (from spacy<2.4.0,>=2.3.0->de_core_news_sm==2.3.0) (7.4.5)\n",
      "Requirement already satisfied: importlib-metadata>=0.20 in /home/ec2-user/anaconda3/envs/python3/lib/python3.6/site-packages (from catalogue<1.1.0,>=0.0.7->spacy<2.4.0,>=2.3.0->de_core_news_sm==2.3.0) (3.7.0)\n",
      "Requirement already satisfied: typing-extensions>=3.6.4 in /home/ec2-user/anaconda3/envs/python3/lib/python3.6/site-packages (from importlib-metadata>=0.20->catalogue<1.1.0,>=0.0.7->spacy<2.4.0,>=2.3.0->de_core_news_sm==2.3.0) (3.7.4.3)\n",
      "Requirement already satisfied: zipp>=0.5 in /home/ec2-user/anaconda3/envs/python3/lib/python3.6/site-packages (from importlib-metadata>=0.20->catalogue<1.1.0,>=0.0.7->spacy<2.4.0,>=2.3.0->de_core_news_sm==2.3.0) (3.4.0)\n",
      "Requirement already satisfied: chardet<5,>=3.0.2 in /home/ec2-user/anaconda3/envs/python3/lib/python3.6/site-packages (from requests<3.0.0,>=2.13.0->spacy<2.4.0,>=2.3.0->de_core_news_sm==2.3.0) (3.0.4)\n",
      "Requirement already satisfied: idna<3,>=2.5 in /home/ec2-user/anaconda3/envs/python3/lib/python3.6/site-packages (from requests<3.0.0,>=2.13.0->spacy<2.4.0,>=2.3.0->de_core_news_sm==2.3.0) (2.10)\n",
      "Requirement already satisfied: urllib3<1.27,>=1.21.1 in /home/ec2-user/anaconda3/envs/python3/lib/python3.6/site-packages (from requests<3.0.0,>=2.13.0->spacy<2.4.0,>=2.3.0->de_core_news_sm==2.3.0) (1.26.5)\n",
      "Requirement already satisfied: certifi>=2017.4.17 in /home/ec2-user/anaconda3/envs/python3/lib/python3.6/site-packages (from requests<3.0.0,>=2.13.0->spacy<2.4.0,>=2.3.0->de_core_news_sm==2.3.0) (2021.5.30)\n",
      "Building wheels for collected packages: de-core-news-sm\n",
      "  Building wheel for de-core-news-sm (setup.py) ... \u001b[?25ldone\n",
      "\u001b[?25h  Created wheel for de-core-news-sm: filename=de_core_news_sm-2.3.0-py3-none-any.whl size=14907581 sha256=92fe86b4b498dc84bd61a72e5b47c64bc3df1f8703d156cf05fa9ca452ffbdc4\n",
      "  Stored in directory: /tmp/pip-ephem-wheel-cache-rymr22xo/wheels/fe/44/0f/7270b8ec13bc290e606a3c0f52f981915b1d09d1dfc7c79088\n",
      "Successfully built de-core-news-sm\n",
      "Installing collected packages: de-core-news-sm\n",
      "Successfully installed de-core-news-sm-2.3.0\n",
      "\u001b[38;5;2m✔ Download and installation successful\u001b[0m\n",
      "You can now load the model via spacy.load('de_core_news_sm')\n"
     ]
    }
   ],
   "source": [
    "try:\n",
    "    already_initialized\n",
    "except NameError:\n",
    "    !python -m pip install --upgrade pip\n",
    "    !pip install spacy==2.3.5\n",
    "    !pip install spacy-lookups-data\n",
    "    !python -m spacy download de_core_news_sm\n",
    "    already_initialized = True"
   ]
  },
  {
   "cell_type": "code",
   "execution_count": 2,
   "metadata": {},
   "outputs": [],
   "source": [
    "import pandas as pd\n",
    "from sklearn.model_selection import train_test_split\n",
    "import matplotlib.pyplot as plt\n",
    "\n",
    "import spacy\n",
    "import de_core_news_sm\n",
    "from spacy.lang.de import German\n",
    "from spacy.matcher import PhraseMatcher\n",
    "from spacy.gold import GoldParse\n",
    "from spacy.scorer import Scorer\n",
    "\n",
    "import random\n",
    "import pprint\n",
    "import string\n",
    "import re\n",
    "import time\n",
    "from datetime import datetime\n",
    "from pathlib import Path"
   ]
  },
  {
   "cell_type": "markdown",
   "metadata": {},
   "source": [
    "# Load and display data\n",
    "\n",
    "Our data is stored in a csv file. We load it from disk and shuffle it in order to avoid imbalances between the training, dev and test sets later.\n",
    "The data contains following columns:\n",
    " - **ingredient** contains the ingredient text as we would see it in the recipe\n",
    " - **quantity** contains the part of the ingredient text that should be labeled as \"quantity\" by the model\n",
    " - **unit** contains the part of the ingredient text that should be labeled as \"unit\" by the model\n",
    " - **name** contains the part of the ingredient text that should be labeled as \"name\" by the model "
   ]
  },
  {
   "cell_type": "code",
   "execution_count": 3,
   "metadata": {},
   "outputs": [
    {
     "name": "stdout",
     "output_type": "stream",
     "text": [
      "Total number of rows: 573\n"
     ]
    },
    {
     "data": {
      "text/html": [
       "<div>\n",
       "<style scoped>\n",
       "    .dataframe tbody tr th:only-of-type {\n",
       "        vertical-align: middle;\n",
       "    }\n",
       "\n",
       "    .dataframe tbody tr th {\n",
       "        vertical-align: top;\n",
       "    }\n",
       "\n",
       "    .dataframe thead th {\n",
       "        text-align: right;\n",
       "    }\n",
       "</style>\n",
       "<table border=\"1\" class=\"dataframe\">\n",
       "  <thead>\n",
       "    <tr style=\"text-align: right;\">\n",
       "      <th></th>\n",
       "      <th>ingredient</th>\n",
       "      <th>quantity</th>\n",
       "      <th>unit</th>\n",
       "      <th>name</th>\n",
       "    </tr>\n",
       "  </thead>\n",
       "  <tbody>\n",
       "    <tr>\n",
       "      <th>0</th>\n",
       "      <td>1.00 Gläser Weißwein</td>\n",
       "      <td>1.00</td>\n",
       "      <td>Gläser</td>\n",
       "      <td>Weißwein</td>\n",
       "    </tr>\n",
       "    <tr>\n",
       "      <th>1</th>\n",
       "      <td>2.00 Zehen Knoblauch</td>\n",
       "      <td>2.00</td>\n",
       "      <td>Zehen</td>\n",
       "      <td>Knoblauch</td>\n",
       "    </tr>\n",
       "    <tr>\n",
       "      <th>2</th>\n",
       "      <td>340.00 g Linguiça-Wurst</td>\n",
       "      <td>340.00</td>\n",
       "      <td>g</td>\n",
       "      <td>Linguiça-Wurst</td>\n",
       "    </tr>\n",
       "    <tr>\n",
       "      <th>3</th>\n",
       "      <td>2.00 EL Reisessig</td>\n",
       "      <td>2.00</td>\n",
       "      <td>EL</td>\n",
       "      <td>Reisessig</td>\n",
       "    </tr>\n",
       "    <tr>\n",
       "      <th>4</th>\n",
       "      <td>3.00 EL Olivenöl</td>\n",
       "      <td>3.00</td>\n",
       "      <td>EL</td>\n",
       "      <td>Olivenöl</td>\n",
       "    </tr>\n",
       "    <tr>\n",
       "      <th>5</th>\n",
       "      <td>4.00 EL Leinsamen</td>\n",
       "      <td>4.00</td>\n",
       "      <td>EL</td>\n",
       "      <td>Leinsamen</td>\n",
       "    </tr>\n",
       "    <tr>\n",
       "      <th>6</th>\n",
       "      <td>4.00 EL Dattelzucker</td>\n",
       "      <td>4.00</td>\n",
       "      <td>EL</td>\n",
       "      <td>Dattelzucker</td>\n",
       "    </tr>\n",
       "    <tr>\n",
       "      <th>7</th>\n",
       "      <td>600.00 g Tagliatelle</td>\n",
       "      <td>600.00</td>\n",
       "      <td>g</td>\n",
       "      <td>Tagliatelle</td>\n",
       "    </tr>\n",
       "    <tr>\n",
       "      <th>8</th>\n",
       "      <td>0.52 Tuben Tomatenmark</td>\n",
       "      <td>0.52</td>\n",
       "      <td>Tuben</td>\n",
       "      <td>Tomatenmark</td>\n",
       "    </tr>\n",
       "    <tr>\n",
       "      <th>9</th>\n",
       "      <td>1.00 Packungen Mozzarella</td>\n",
       "      <td>1.00</td>\n",
       "      <td>Packungen</td>\n",
       "      <td>Mozzarella</td>\n",
       "    </tr>\n",
       "  </tbody>\n",
       "</table>\n",
       "</div>"
      ],
      "text/plain": [
       "                  ingredient  quantity       unit            name\n",
       "0       1.00 Gläser Weißwein      1.00     Gläser        Weißwein\n",
       "1       2.00 Zehen Knoblauch      2.00      Zehen       Knoblauch\n",
       "2    340.00 g Linguiça-Wurst    340.00          g  Linguiça-Wurst\n",
       "3          2.00 EL Reisessig      2.00         EL       Reisessig\n",
       "4           3.00 EL Olivenöl      3.00         EL        Olivenöl\n",
       "5          4.00 EL Leinsamen      4.00         EL       Leinsamen\n",
       "6       4.00 EL Dattelzucker      4.00         EL    Dattelzucker\n",
       "7       600.00 g Tagliatelle    600.00          g     Tagliatelle\n",
       "8     0.52 Tuben Tomatenmark      0.52      Tuben     Tomatenmark\n",
       "9  1.00 Packungen Mozzarella      1.00  Packungen      Mozzarella"
      ]
     },
     "execution_count": 3,
     "metadata": {},
     "output_type": "execute_result"
    }
   ],
   "source": [
    "csv_file = 'data/data.csv'\n",
    "ingredients_df = pd.read_csv(csv_file).sample(frac=1).reset_index(drop=True) # read and shuffle data\n",
    "\n",
    "print(f\"Total number of rows: {len(ingredients_df.index)}\")\n",
    "\n",
    "# print out the first few rows of data info\n",
    "ingredients_df.head(10)"
   ]
  },
  {
   "cell_type": "markdown",
   "metadata": {},
   "source": [
    "# Helper functions\n",
    "\n",
    "Here we define some functions we are going to need throughout the implementation."
   ]
  },
  {
   "cell_type": "code",
   "execution_count": 4,
   "metadata": {},
   "outputs": [],
   "source": [
    "pprinter = pprint.PrettyPrinter(indent=4)"
   ]
  },
  {
   "cell_type": "code",
   "execution_count": 5,
   "metadata": {},
   "outputs": [],
   "source": [
    "def pp(title, obj, newline=True):\n",
    "    \"\"\" Convenience function to pretty-print variables \"\"\"\n",
    "    print(f'{title}:')\n",
    "    pprinter.pprint(obj)\n",
    "    if(newline):\n",
    "        print()\n",
    "\n",
    "def split_words(series):\n",
    "    \"\"\"  Returns a list of unique words contained in the series \"\"\"\n",
    "    unique = set()\n",
    "    for item in series:\n",
    "        cleaned = re.sub(r'['+re.escape(string.punctuation)+']', ' ', item)\n",
    "        cleaned = re.sub(r' +', ' ', cleaned)\n",
    "        words = cleaned.split()\n",
    "        for word in words:\n",
    "            unique.add(word)\n",
    "    return list(unique)\n",
    "    \n",
    "def generate_patterns(model, series):\n",
    "    \"\"\" Converts a series of words as a list of spaCy documents \"\"\"\n",
    "    matcher_patterns = []\n",
    "    \n",
    "    for item in series:\n",
    "        pattern = item.lower() if isinstance(item, str) else f'{item:.2f}'\n",
    "        matcher_patterns.append(model.make_doc(pattern))\n",
    "    \n",
    "    return matcher_patterns\n",
    "\n",
    "def generate_data(model, data, matcher):\n",
    "    \"\"\"\n",
    "    Generates the data used for training the NER model with spaCy.\n",
    "    Returns a list with entries like this:\n",
    "    \n",
    "    ('300.00 g Couscous', {'entities': [(0, 6, 'QUANTITY'), (7, 8, 'UNIT'), (9, 17, 'NAME')]})\n",
    "    \n",
    "    \"\"\"\n",
    "    RESULT = []\n",
    "    for doc in model.pipe(data):\n",
    "        entities = []\n",
    "        for match_id, start, end in matcher(doc):\n",
    "            span = doc[start:end]\n",
    "            label = model.vocab.strings[match_id]\n",
    "            entity = (span.start_char, span.end_char, label)\n",
    "            entities.append(entity)\n",
    "\n",
    "        training_example = (doc.text, {'entities': entities})\n",
    "        RESULT.append(training_example)\n",
    "    return RESULT\n",
    "\n",
    "def evaluate(model, data):\n",
    "    \"\"\" Calculates the f1-score of the model on some data \"\"\"\n",
    "    scorer = Scorer()\n",
    "    for text, annotations in data:\n",
    "        doc = model.make_doc(text)\n",
    "        gold = GoldParse(doc, entities=annotations['entities'])\n",
    "        prediction = model(text)\n",
    "        scorer.score(prediction, gold)\n",
    "        # TODO can I get the wrongly labeled examples from the scorer?\n",
    "    return scorer.scores['ents_f']\n",
    "\n",
    "def plot_loss(datapoints):\n",
    "    \"\"\" Plots a set of datapoints as a line diagram \"\"\"\n",
    "    plt.plot(datapoints)\n",
    "    plt.ylabel('Loss')\n",
    "    plt.xlabel('iterations')\n",
    "    plt.show()"
   ]
  },
  {
   "cell_type": "markdown",
   "metadata": {},
   "source": [
    "# Generate patterns\n",
    "We are going to generate patterns we can use for automatically labeling our training data using spaCy."
   ]
  },
  {
   "cell_type": "code",
   "execution_count": 6,
   "metadata": {},
   "outputs": [
    {
     "name": "stdout",
     "output_type": "stream",
     "text": [
      "Unit pattern examples:\n",
      "[gläser, zehen, g, el, tuben, packungen, tl, ml, dosen, bund]\n",
      "\n"
     ]
    }
   ],
   "source": [
    "nlp = de_core_news_sm.load()\n",
    "\n",
    "UNITS = ingredients_df.unit.unique()\n",
    "\n",
    "unit_matcher_patterns = generate_patterns(nlp, UNITS, 'UNIT')\n",
    "\n",
    "pp('Unit pattern examples', unit_matcher_patterns[0:10])"
   ]
  },
  {
   "cell_type": "code",
   "execution_count": 7,
   "metadata": {},
   "outputs": [
    {
     "name": "stdout",
     "output_type": "stream",
     "text": [
      "Quantity pattern examples:\n",
      "[1.00, 2.00, 340.00, 3.00, 4.00, 600.00, 0.52, 200.00, 66.68, 80.00]\n",
      "\n"
     ]
    }
   ],
   "source": [
    "QUANTITIES = ingredients_df.quantity.unique()\n",
    "\n",
    "quantity_matcher_patterns = generate_patterns(nlp, QUANTITIES, 'QUANTITY')\n",
    "\n",
    "pp('Quantity pattern examples', quantity_matcher_patterns[0:10])"
   ]
  },
  {
   "cell_type": "code",
   "execution_count": 8,
   "metadata": {},
   "outputs": [
    {
     "name": "stdout",
     "output_type": "stream",
     "text": [
      "Name pattern examples:\n",
      "[   oliven,\n",
      "    champignons,\n",
      "    mehl,\n",
      "    laksapaste,\n",
      "    maggi,\n",
      "    kokosmilch,\n",
      "    garnelen,\n",
      "    5,\n",
      "    soja,\n",
      "    basmati]\n",
      "\n"
     ]
    }
   ],
   "source": [
    "NAMES = ingredients_df.name.unique()\n",
    "\n",
    "UNIQUE_WORDS = split_words(NAMES)\n",
    "\n",
    "name_matcher_patterns = generate_patterns(nlp, UNIQUE_WORDS, 'NAME')\n",
    "\n",
    "pp('Name pattern examples', name_matcher_patterns[0:10])"
   ]
  },
  {
   "cell_type": "markdown",
   "metadata": {},
   "source": [
    "# Create Training Data\n",
    "Now we are going to loop through all the texts in the ingredient column and mark each part (quantity, unit and name) as different entities using the patterns we generated above.\n",
    "\n",
    "First split the data into a training, a dev, and a test set using a 60% - 20% - 20% split."
   ]
  },
  {
   "cell_type": "code",
   "execution_count": 9,
   "metadata": {},
   "outputs": [
    {
     "name": "stdout",
     "output_type": "stream",
     "text": [
      "train set: 343 examples - 60%\n",
      "  dev set: 115 examples - 20%\n",
      " test set: 115 examples - 20%\n"
     ]
    }
   ],
   "source": [
    "# Number of examples - train: 343 - dev: 115 - test: 115\n",
    "TRAIN_SET, DEV_TEST_SET = train_test_split(ingredients_df, test_size=0.4)\n",
    "DEV_SET, TEST_SET = train_test_split(DEV_TEST_SET, test_size=0.5)\n",
    "\n",
    "DEV_TEST_SET = None\n",
    "\n",
    "total = len(ingredients_df)\n",
    "train_percent = len(TRAIN_SET) / total\n",
    "dev_percent = len(DEV_SET) / total\n",
    "test_percent = len(TEST_SET) / total\n",
    "\n",
    "print(f'train set: {len(TRAIN_SET)} examples - {train_percent:.0%}') # 343\n",
    "print(f'  dev set: {len(DEV_SET)} examples - {dev_percent:.0%}')   # 115\n",
    "print(f' test set: {len(TEST_SET)} examples - {test_percent:.0%}')  # 115"
   ]
  },
  {
   "cell_type": "markdown",
   "metadata": {},
   "source": [
    "Then use our helper function to convert the different sets into a format suitable for training the spaCy model."
   ]
  },
  {
   "cell_type": "code",
   "execution_count": 10,
   "metadata": {},
   "outputs": [
    {
     "name": "stdout",
     "output_type": "stream",
     "text": [
      "TRAIN_DATA:\n",
      "[   (   '2.00 TL Italienische Kräuter',\n",
      "        {   'entities': [   (0, 4, 'QUANTITY'),\n",
      "                            (5, 7, 'UNIT'),\n",
      "                            (8, 20, 'NAME'),\n",
      "                            (21, 28, 'NAME')]}),\n",
      "    (   '1.00 Kannen Kaffee',\n",
      "        {'entities': [(0, 4, 'QUANTITY'), (5, 11, 'UNIT'), (12, 18, 'NAME')]}),\n",
      "    (   '1.00 ml new ingredient',\n",
      "        {   'entities': [   (0, 4, 'QUANTITY'),\n",
      "                            (5, 7, 'UNIT'),\n",
      "                            (8, 11, 'NAME'),\n",
      "                            (12, 22, 'NAME')]}),\n",
      "    (   '300.00 g Couscous',\n",
      "        {'entities': [(0, 6, 'QUANTITY'), (7, 8, 'UNIT'), (9, 17, 'NAME')]}),\n",
      "    (   '12.00 g Kakaopulver stark entölt',\n",
      "        {   'entities': [   (0, 5, 'QUANTITY'),\n",
      "                            (6, 7, 'UNIT'),\n",
      "                            (8, 19, 'NAME'),\n",
      "                            (20, 25, 'NAME'),\n",
      "                            (26, 32, 'NAME')]})]\n",
      "\n",
      "DEV_DATA:\n",
      "[   (   '400.00 g Champignons',\n",
      "        {'entities': [(0, 6, 'QUANTITY'), (7, 8, 'UNIT'), (9, 20, 'NAME')]}),\n",
      "    (   '400.00 g Hackfleisch (Rind)',\n",
      "        {   'entities': [   (0, 6, 'QUANTITY'),\n",
      "                            (7, 8, 'UNIT'),\n",
      "                            (9, 20, 'NAME'),\n",
      "                            (22, 26, 'NAME')]}),\n",
      "    (   '2.00 TL Zimt',\n",
      "        {'entities': [(0, 4, 'QUANTITY'), (5, 7, 'UNIT'), (8, 12, 'NAME')]}),\n",
      "    (   '150.00 g Austernpilze',\n",
      "        {'entities': [(0, 6, 'QUANTITY'), (7, 8, 'UNIT'), (9, 21, 'NAME')]}),\n",
      "    (   '3.00 Zehen Knoblauch',\n",
      "        {'entities': [(0, 4, 'QUANTITY'), (5, 10, 'UNIT'), (11, 20, 'NAME')]})]\n",
      "\n",
      "TEST_DATA:\n",
      "[   (   '5.00 Zehen Knoblauch',\n",
      "        {'entities': [(0, 4, 'QUANTITY'), (5, 10, 'UNIT'), (11, 20, 'NAME')]}),\n",
      "    (   '6.00 EL Olivenöl',\n",
      "        {'entities': [(0, 4, 'QUANTITY'), (5, 7, 'UNIT'), (8, 16, 'NAME')]}),\n",
      "    (   '400.00 g Linguine',\n",
      "        {'entities': [(0, 6, 'QUANTITY'), (7, 8, 'UNIT'), (9, 17, 'NAME')]}),\n",
      "    (   '200.00 g Sahne',\n",
      "        {'entities': [(0, 6, 'QUANTITY'), (7, 8, 'UNIT'), (9, 14, 'NAME')]}),\n",
      "    (   '0.52 TL Pimentón',\n",
      "        {'entities': [(0, 4, 'QUANTITY'), (5, 7, 'UNIT'), (8, 16, 'NAME')]})]\n",
      "\n"
     ]
    }
   ],
   "source": [
    "matcher = PhraseMatcher(nlp.vocab, attr='LOWER')\n",
    "matcher.add('QUANTITY', None, *quantity_matcher_patterns)\n",
    "matcher.add('UNIT', None, *unit_matcher_patterns)\n",
    "matcher.add('NAME', None, *name_matcher_patterns)\n",
    "\n",
    "TRAIN_DATA = generate_data(nlp, TRAIN_SET.ingredient, matcher)\n",
    "DEV_DATA = generate_data(nlp, DEV_SET.ingredient, matcher)\n",
    "TEST_DATA = generate_data(nlp, TEST_SET.ingredient, matcher)\n",
    "\n",
    "pp('TRAIN_DATA', TRAIN_DATA[0:5])\n",
    "pp('DEV_DATA', DEV_DATA[0:5])\n",
    "pp('TEST_DATA', TEST_DATA[0:5])"
   ]
  },
  {
   "cell_type": "markdown",
   "metadata": {},
   "source": [
    "# Training the Model\n",
    "\n",
    "Now we are ready to train the model. This model is trained following the recommendations in https://v2.spacy.io/usage/training.\n",
    "\n",
    "We start with an empty model and a single named-entity recognition (NER) pipeline component.\n",
    "All 3 labels (quantiy, unit, name) are added to the NER pipeline to be recognized by the model.\n",
    "\n",
    "After that we loop through the training set, shuffling it before every iteration. The training set is then divided into batches, for which the nlp.update() function is run with the texts and annotations passed as parameters, thus updating the internal weights of the model.\n",
    "\n",
    "The loss is calculated and tracked for each iteration. It is then plotted into a graph and analyzed to make sure that it gets smaller over time.\n",
    "\n",
    "This process is repeated for all combinations of hyperparameters (number of iterations, batch size, and dropout rate) which have been defined in advance.\n",
    "\n",
    "For each hyperparameter combination I then calculated the f1 score on the training set the model was trained on and on the dev set, which the model hadn’t seen yet. One can then informally define the error rate on the training set as the bias and the difference between the dev error rate and the training error rate as the variance. Both bias and variance should be low in order to have a model that performs well and doesn’t overfit."
   ]
  },
  {
   "cell_type": "code",
   "execution_count": 11,
   "metadata": {},
   "outputs": [
    {
     "name": "stdout",
     "output_type": "stream",
     "text": [
      "hyper: {'iterations': 10, 'minibatch_size': 2, 'dropout': 0.2} - iteration 0 - loss: {'ner': 128.4235257503744}\n",
      "hyper: {'iterations': 10, 'minibatch_size': 2, 'dropout': 0.2} - iteration 1 - loss: {'ner': 8.928523578330589}\n",
      "hyper: {'iterations': 10, 'minibatch_size': 2, 'dropout': 0.2} - iteration 2 - loss: {'ner': 5.135053166255091}\n",
      "hyper: {'iterations': 10, 'minibatch_size': 2, 'dropout': 0.2} - iteration 3 - loss: {'ner': 5.031490137611167}\n",
      "hyper: {'iterations': 10, 'minibatch_size': 2, 'dropout': 0.2} - iteration 4 - loss: {'ner': 6.302699749525718}\n",
      "hyper: {'iterations': 10, 'minibatch_size': 2, 'dropout': 0.2} - iteration 5 - loss: {'ner': 10.89035293112973}\n",
      "hyper: {'iterations': 10, 'minibatch_size': 2, 'dropout': 0.2} - iteration 6 - loss: {'ner': 4.293319239737265}\n",
      "hyper: {'iterations': 10, 'minibatch_size': 2, 'dropout': 0.2} - iteration 7 - loss: {'ner': 1.3181057338334325}\n",
      "hyper: {'iterations': 10, 'minibatch_size': 2, 'dropout': 0.2} - iteration 8 - loss: {'ner': 4.372774392671101}\n",
      "hyper: {'iterations': 10, 'minibatch_size': 2, 'dropout': 0.2} - iteration 9 - loss: {'ner': 6.417462112666447}\n",
      "hyper: {'iterations': 10, 'minibatch_size': 2, 'dropout': 0.2} - f1-score on TRAIN_DATA : 99.95311767463666\n",
      "hyper: {'iterations': 10, 'minibatch_size': 2, 'dropout': 0.2} - f1-score on DEV_DATA: 99.86052998605301\n"
     ]
    },
    {
     "data": {
      "image/png": "[encoded data removed]",
      "text/plain": [
       "<Figure size 432x288 with 1 Axes>"
      ]
     },
     "metadata": {
      "needs_background": "light"
     },
     "output_type": "display_data"
    },
    {
     "name": "stdout",
     "output_type": "stream",
     "text": [
      "hyper: {'iterations': 10, 'minibatch_size': 2, 'dropout': 0.4} - iteration 0 - loss: {'ner': 165.07980859041257}\n",
      "hyper: {'iterations': 10, 'minibatch_size': 2, 'dropout': 0.4} - iteration 1 - loss: {'ner': 25.202970995361422}\n",
      "hyper: {'iterations': 10, 'minibatch_size': 2, 'dropout': 0.4} - iteration 2 - loss: {'ner': 8.878371671106795}\n",
      "hyper: {'iterations': 10, 'minibatch_size': 2, 'dropout': 0.4} - iteration 3 - loss: {'ner': 7.408204731053611}\n",
      "hyper: {'iterations': 10, 'minibatch_size': 2, 'dropout': 0.4} - iteration 4 - loss: {'ner': 7.216738022417119}\n",
      "hyper: {'iterations': 10, 'minibatch_size': 2, 'dropout': 0.4} - iteration 5 - loss: {'ner': 7.354469369195164}\n",
      "hyper: {'iterations': 10, 'minibatch_size': 2, 'dropout': 0.4} - iteration 6 - loss: {'ner': 4.85327720085976}\n",
      "hyper: {'iterations': 10, 'minibatch_size': 2, 'dropout': 0.4} - iteration 7 - loss: {'ner': 7.698579209230714}\n",
      "hyper: {'iterations': 10, 'minibatch_size': 2, 'dropout': 0.4} - iteration 8 - loss: {'ner': 6.228958984603973}\n",
      "hyper: {'iterations': 10, 'minibatch_size': 2, 'dropout': 0.4} - iteration 9 - loss: {'ner': 4.9151916454547395}\n",
      "hyper: {'iterations': 10, 'minibatch_size': 2, 'dropout': 0.4} - f1-score on TRAIN_DATA : 99.90627928772258\n",
      "hyper: {'iterations': 10, 'minibatch_size': 2, 'dropout': 0.4} - f1-score on DEV_DATA: 100.0\n"
     ]
    },
    {
     "data": {
      "image/png": "[encoded data removed]",
      "text/plain": [
       "<Figure size 432x288 with 1 Axes>"
      ]
     },
     "metadata": {
      "needs_background": "light"
     },
     "output_type": "display_data"
    },
    {
     "name": "stdout",
     "output_type": "stream",
     "text": [
      "hyper: {'iterations': 10, 'minibatch_size': 2, 'dropout': 0.6} - iteration 0 - loss: {'ner': 280.4478206241815}\n",
      "hyper: {'iterations': 10, 'minibatch_size': 2, 'dropout': 0.6} - iteration 1 - loss: {'ner': 83.86734152701321}\n",
      "hyper: {'iterations': 10, 'minibatch_size': 2, 'dropout': 0.6} - iteration 2 - loss: {'ner': 49.71271347665124}\n",
      "hyper: {'iterations': 10, 'minibatch_size': 2, 'dropout': 0.6} - iteration 3 - loss: {'ner': 27.521979458051028}\n",
      "hyper: {'iterations': 10, 'minibatch_size': 2, 'dropout': 0.6} - iteration 4 - loss: {'ner': 12.877829922420853}\n",
      "hyper: {'iterations': 10, 'minibatch_size': 2, 'dropout': 0.6} - iteration 5 - loss: {'ner': 19.024854943519315}\n",
      "hyper: {'iterations': 10, 'minibatch_size': 2, 'dropout': 0.6} - iteration 6 - loss: {'ner': 14.378485439156375}\n",
      "hyper: {'iterations': 10, 'minibatch_size': 2, 'dropout': 0.6} - iteration 7 - loss: {'ner': 9.700032821214995}\n",
      "hyper: {'iterations': 10, 'minibatch_size': 2, 'dropout': 0.6} - iteration 8 - loss: {'ner': 11.994408646508447}\n",
      "hyper: {'iterations': 10, 'minibatch_size': 2, 'dropout': 0.6} - iteration 9 - loss: {'ner': 9.791412636350138}\n",
      "hyper: {'iterations': 10, 'minibatch_size': 2, 'dropout': 0.6} - f1-score on TRAIN_DATA : 99.812734082397\n",
      "hyper: {'iterations': 10, 'minibatch_size': 2, 'dropout': 0.6} - f1-score on DEV_DATA: 100.0\n"
     ]
    },
    {
     "data": {
      "image/png": "[encoded data removed]",
      "text/plain": [
       "<Figure size 432x288 with 1 Axes>"
      ]
     },
     "metadata": {
      "needs_background": "light"
     },
     "output_type": "display_data"
    },
    {
     "name": "stdout",
     "output_type": "stream",
     "text": [
      "hyper: {'iterations': 10, 'minibatch_size': 4, 'dropout': 0.2} - iteration 0 - loss: {'ner': 159.59211190712733}\n",
      "hyper: {'iterations': 10, 'minibatch_size': 4, 'dropout': 0.2} - iteration 1 - loss: {'ner': 14.69872984078598}\n",
      "hyper: {'iterations': 10, 'minibatch_size': 4, 'dropout': 0.2} - iteration 2 - loss: {'ner': 4.881851631212615}\n",
      "hyper: {'iterations': 10, 'minibatch_size': 4, 'dropout': 0.2} - iteration 3 - loss: {'ner': 3.9435725534131043}\n",
      "hyper: {'iterations': 10, 'minibatch_size': 4, 'dropout': 0.2} - iteration 4 - loss: {'ner': 5.1091017383901445}\n",
      "hyper: {'iterations': 10, 'minibatch_size': 4, 'dropout': 0.2} - iteration 5 - loss: {'ner': 3.8407306725187267}\n",
      "hyper: {'iterations': 10, 'minibatch_size': 4, 'dropout': 0.2} - iteration 6 - loss: {'ner': 2.2370249617372076}\n",
      "hyper: {'iterations': 10, 'minibatch_size': 4, 'dropout': 0.2} - iteration 7 - loss: {'ner': 4.497754836145233}\n",
      "hyper: {'iterations': 10, 'minibatch_size': 4, 'dropout': 0.2} - iteration 8 - loss: {'ner': 5.3149357739355745}\n",
      "hyper: {'iterations': 10, 'minibatch_size': 4, 'dropout': 0.2} - iteration 9 - loss: {'ner': 3.649419564756924}\n",
      "hyper: {'iterations': 10, 'minibatch_size': 4, 'dropout': 0.2} - f1-score on TRAIN_DATA : 100.0\n",
      "hyper: {'iterations': 10, 'minibatch_size': 4, 'dropout': 0.2} - f1-score on DEV_DATA: 100.0\n"
     ]
    },
    {
     "data": {
      "image/png": "[encoded data removed]",
      "text/plain": [
       "<Figure size 432x288 with 1 Axes>"
      ]
     },
     "metadata": {
      "needs_background": "light"
     },
     "output_type": "display_data"
    },
    {
     "name": "stdout",
     "output_type": "stream",
     "text": [
      "hyper: {'iterations': 10, 'minibatch_size': 4, 'dropout': 0.4} - iteration 0 - loss: {'ner': 250.4124416874584}\n",
      "hyper: {'iterations': 10, 'minibatch_size': 4, 'dropout': 0.4} - iteration 1 - loss: {'ner': 36.16517140687671}\n",
      "hyper: {'iterations': 10, 'minibatch_size': 4, 'dropout': 0.4} - iteration 2 - loss: {'ner': 19.34584193775163}\n",
      "hyper: {'iterations': 10, 'minibatch_size': 4, 'dropout': 0.4} - iteration 3 - loss: {'ner': 7.085693696390573}\n",
      "hyper: {'iterations': 10, 'minibatch_size': 4, 'dropout': 0.4} - iteration 4 - loss: {'ner': 5.716200385504243}\n",
      "hyper: {'iterations': 10, 'minibatch_size': 4, 'dropout': 0.4} - iteration 5 - loss: {'ner': 7.190030684168083}\n",
      "hyper: {'iterations': 10, 'minibatch_size': 4, 'dropout': 0.4} - iteration 6 - loss: {'ner': 5.845293587098967}\n",
      "hyper: {'iterations': 10, 'minibatch_size': 4, 'dropout': 0.4} - iteration 7 - loss: {'ner': 3.4949346018065683}\n",
      "hyper: {'iterations': 10, 'minibatch_size': 4, 'dropout': 0.4} - iteration 8 - loss: {'ner': 3.6854913712746558}\n",
      "hyper: {'iterations': 10, 'minibatch_size': 4, 'dropout': 0.4} - iteration 9 - loss: {'ner': 12.344211062353281}\n",
      "hyper: {'iterations': 10, 'minibatch_size': 4, 'dropout': 0.4} - f1-score on TRAIN_DATA : 99.90627928772258\n",
      "hyper: {'iterations': 10, 'minibatch_size': 4, 'dropout': 0.4} - f1-score on DEV_DATA: 99.86052998605301\n"
     ]
    },
    {
     "data": {
      "image/png": "[encoded data removed]",
      "text/plain": [
       "<Figure size 432x288 with 1 Axes>"
      ]
     },
     "metadata": {
      "needs_background": "light"
     },
     "output_type": "display_data"
    },
    {
     "name": "stdout",
     "output_type": "stream",
     "text": [
      "hyper: {'iterations': 10, 'minibatch_size': 4, 'dropout': 0.6} - iteration 0 - loss: {'ner': 428.19916439961526}\n",
      "hyper: {'iterations': 10, 'minibatch_size': 4, 'dropout': 0.6} - iteration 1 - loss: {'ner': 91.12248730901564}\n",
      "hyper: {'iterations': 10, 'minibatch_size': 4, 'dropout': 0.6} - iteration 2 - loss: {'ner': 81.02471158787002}\n",
      "hyper: {'iterations': 10, 'minibatch_size': 4, 'dropout': 0.6} - iteration 3 - loss: {'ner': 57.70494834477445}\n",
      "hyper: {'iterations': 10, 'minibatch_size': 4, 'dropout': 0.6} - iteration 4 - loss: {'ner': 38.539655084563904}\n",
      "hyper: {'iterations': 10, 'minibatch_size': 4, 'dropout': 0.6} - iteration 5 - loss: {'ner': 28.14579094790103}\n",
      "hyper: {'iterations': 10, 'minibatch_size': 4, 'dropout': 0.6} - iteration 6 - loss: {'ner': 18.602708878316037}\n",
      "hyper: {'iterations': 10, 'minibatch_size': 4, 'dropout': 0.6} - iteration 7 - loss: {'ner': 14.455949748359131}\n",
      "hyper: {'iterations': 10, 'minibatch_size': 4, 'dropout': 0.6} - iteration 8 - loss: {'ner': 7.398353542084412}\n",
      "hyper: {'iterations': 10, 'minibatch_size': 4, 'dropout': 0.6} - iteration 9 - loss: {'ner': 15.667234354306222}\n",
      "hyper: {'iterations': 10, 'minibatch_size': 4, 'dropout': 0.6} - f1-score on TRAIN_DATA : 99.85948477751757\n",
      "hyper: {'iterations': 10, 'minibatch_size': 4, 'dropout': 0.6} - f1-score on DEV_DATA: 100.0\n"
     ]
    },
    {
     "data": {
      "image/png": "[encoded data removed]",
      "text/plain": [
       "<Figure size 432x288 with 1 Axes>"
      ]
     },
     "metadata": {
      "needs_background": "light"
     },
     "output_type": "display_data"
    },
    {
     "name": "stdout",
     "output_type": "stream",
     "text": [
      "hyper: {'iterations': 10, 'minibatch_size': 8, 'dropout': 0.2} - iteration 0 - loss: {'ner': 268.60947002055275}\n",
      "hyper: {'iterations': 10, 'minibatch_size': 8, 'dropout': 0.2} - iteration 1 - loss: {'ner': 23.745348867876032}\n",
      "hyper: {'iterations': 10, 'minibatch_size': 8, 'dropout': 0.2} - iteration 2 - loss: {'ner': 7.449846561963729}\n",
      "hyper: {'iterations': 10, 'minibatch_size': 8, 'dropout': 0.2} - iteration 3 - loss: {'ner': 2.2668970018896366}\n",
      "hyper: {'iterations': 10, 'minibatch_size': 8, 'dropout': 0.2} - iteration 4 - loss: {'ner': 3.6940020906857853}\n",
      "hyper: {'iterations': 10, 'minibatch_size': 8, 'dropout': 0.2} - iteration 5 - loss: {'ner': 4.207773815064611}\n",
      "hyper: {'iterations': 10, 'minibatch_size': 8, 'dropout': 0.2} - iteration 6 - loss: {'ner': 1.9916207120128093}\n",
      "hyper: {'iterations': 10, 'minibatch_size': 8, 'dropout': 0.2} - iteration 7 - loss: {'ner': 1.6242084308777354}\n",
      "hyper: {'iterations': 10, 'minibatch_size': 8, 'dropout': 0.2} - iteration 8 - loss: {'ner': 1.6744671952947303}\n",
      "hyper: {'iterations': 10, 'minibatch_size': 8, 'dropout': 0.2} - iteration 9 - loss: {'ner': 2.645308455422424}\n",
      "hyper: {'iterations': 10, 'minibatch_size': 8, 'dropout': 0.2} - f1-score on TRAIN_DATA : 100.0\n",
      "hyper: {'iterations': 10, 'minibatch_size': 8, 'dropout': 0.2} - f1-score on DEV_DATA: 100.0\n"
     ]
    },
    {
     "data": {
      "image/png": "[encoded data removed]",
      "text/plain": [
       "<Figure size 432x288 with 1 Axes>"
      ]
     },
     "metadata": {
      "needs_background": "light"
     },
     "output_type": "display_data"
    },
    {
     "name": "stdout",
     "output_type": "stream",
     "text": [
      "hyper: {'iterations': 10, 'minibatch_size': 8, 'dropout': 0.4} - iteration 0 - loss: {'ner': 375.0743622084846}\n",
      "hyper: {'iterations': 10, 'minibatch_size': 8, 'dropout': 0.4} - iteration 1 - loss: {'ner': 53.64168624454105}\n",
      "hyper: {'iterations': 10, 'minibatch_size': 8, 'dropout': 0.4} - iteration 2 - loss: {'ner': 19.65958124212597}\n",
      "hyper: {'iterations': 10, 'minibatch_size': 8, 'dropout': 0.4} - iteration 3 - loss: {'ner': 8.136826783832506}\n",
      "hyper: {'iterations': 10, 'minibatch_size': 8, 'dropout': 0.4} - iteration 4 - loss: {'ner': 3.7468059493091754}\n",
      "hyper: {'iterations': 10, 'minibatch_size': 8, 'dropout': 0.4} - iteration 5 - loss: {'ner': 3.128234583092437}\n",
      "hyper: {'iterations': 10, 'minibatch_size': 8, 'dropout': 0.4} - iteration 6 - loss: {'ner': 5.475992022453272}\n",
      "hyper: {'iterations': 10, 'minibatch_size': 8, 'dropout': 0.4} - iteration 7 - loss: {'ner': 3.6133598186249363}\n",
      "hyper: {'iterations': 10, 'minibatch_size': 8, 'dropout': 0.4} - iteration 8 - loss: {'ner': 2.9655271238254772}\n",
      "hyper: {'iterations': 10, 'minibatch_size': 8, 'dropout': 0.4} - iteration 9 - loss: {'ner': 3.389623665119091}\n",
      "hyper: {'iterations': 10, 'minibatch_size': 8, 'dropout': 0.4} - f1-score on TRAIN_DATA : 99.85948477751757\n",
      "hyper: {'iterations': 10, 'minibatch_size': 8, 'dropout': 0.4} - f1-score on DEV_DATA: 100.0\n"
     ]
    },
    {
     "data": {
      "image/png": "[encoded data removed]",
      "text/plain": [
       "<Figure size 432x288 with 1 Axes>"
      ]
     },
     "metadata": {
      "needs_background": "light"
     },
     "output_type": "display_data"
    },
    {
     "name": "stdout",
     "output_type": "stream",
     "text": [
      "hyper: {'iterations': 10, 'minibatch_size': 8, 'dropout': 0.6} - iteration 0 - loss: {'ner': 572.4478903505951}\n",
      "hyper: {'iterations': 10, 'minibatch_size': 8, 'dropout': 0.6} - iteration 1 - loss: {'ner': 106.42884353599393}\n",
      "hyper: {'iterations': 10, 'minibatch_size': 8, 'dropout': 0.6} - iteration 2 - loss: {'ner': 79.63406516831232}\n",
      "hyper: {'iterations': 10, 'minibatch_size': 8, 'dropout': 0.6} - iteration 3 - loss: {'ner': 64.37763976789213}\n",
      "hyper: {'iterations': 10, 'minibatch_size': 8, 'dropout': 0.6} - iteration 4 - loss: {'ner': 41.67598955299735}\n",
      "hyper: {'iterations': 10, 'minibatch_size': 8, 'dropout': 0.6} - iteration 5 - loss: {'ner': 27.031494383316353}\n",
      "hyper: {'iterations': 10, 'minibatch_size': 8, 'dropout': 0.6} - iteration 6 - loss: {'ner': 15.154717576764908}\n",
      "hyper: {'iterations': 10, 'minibatch_size': 8, 'dropout': 0.6} - iteration 7 - loss: {'ner': 14.990851667907172}\n",
      "hyper: {'iterations': 10, 'minibatch_size': 8, 'dropout': 0.6} - iteration 8 - loss: {'ner': 13.988089452132458}\n",
      "hyper: {'iterations': 10, 'minibatch_size': 8, 'dropout': 0.6} - iteration 9 - loss: {'ner': 7.779105806475903}\n",
      "hyper: {'iterations': 10, 'minibatch_size': 8, 'dropout': 0.6} - f1-score on TRAIN_DATA : 99.90627928772258\n",
      "hyper: {'iterations': 10, 'minibatch_size': 8, 'dropout': 0.6} - f1-score on DEV_DATA: 100.0\n"
     ]
    },
    {
     "data": {
      "image/png": "[encoded data removed]",
      "text/plain": [
       "<Figure size 432x288 with 1 Axes>"
      ]
     },
     "metadata": {
      "needs_background": "light"
     },
     "output_type": "display_data"
    },
    {
     "name": "stdout",
     "output_type": "stream",
     "text": [
      "hyper: {'iterations': 10, 'minibatch_size': 16, 'dropout': 0.2} - iteration 0 - loss: {'ner': 454.7652188140985}\n",
      "hyper: {'iterations': 10, 'minibatch_size': 16, 'dropout': 0.2} - iteration 1 - loss: {'ner': 52.48406210743559}\n",
      "hyper: {'iterations': 10, 'minibatch_size': 16, 'dropout': 0.2} - iteration 2 - loss: {'ner': 18.063980916239107}\n",
      "hyper: {'iterations': 10, 'minibatch_size': 16, 'dropout': 0.2} - iteration 3 - loss: {'ner': 3.3589620304415835}\n",
      "hyper: {'iterations': 10, 'minibatch_size': 16, 'dropout': 0.2} - iteration 4 - loss: {'ner': 8.25284269431356}\n",
      "hyper: {'iterations': 10, 'minibatch_size': 16, 'dropout': 0.2} - iteration 5 - loss: {'ner': 2.1150276496997633}\n",
      "hyper: {'iterations': 10, 'minibatch_size': 16, 'dropout': 0.2} - iteration 6 - loss: {'ner': 2.775386449315026}\n",
      "hyper: {'iterations': 10, 'minibatch_size': 16, 'dropout': 0.2} - iteration 7 - loss: {'ner': 1.4432260771358452}\n",
      "hyper: {'iterations': 10, 'minibatch_size': 16, 'dropout': 0.2} - iteration 8 - loss: {'ner': 2.729662312017428}\n",
      "hyper: {'iterations': 10, 'minibatch_size': 16, 'dropout': 0.2} - iteration 9 - loss: {'ner': 0.9831181727506222}\n",
      "hyper: {'iterations': 10, 'minibatch_size': 16, 'dropout': 0.2} - f1-score on TRAIN_DATA : 99.90627928772258\n",
      "hyper: {'iterations': 10, 'minibatch_size': 16, 'dropout': 0.2} - f1-score on DEV_DATA: 100.0\n"
     ]
    },
    {
     "data": {
      "image/png": "[encoded data removed]",
      "text/plain": [
       "<Figure size 432x288 with 1 Axes>"
      ]
     },
     "metadata": {
      "needs_background": "light"
     },
     "output_type": "display_data"
    },
    {
     "name": "stdout",
     "output_type": "stream",
     "text": [
      "hyper: {'iterations': 10, 'minibatch_size': 16, 'dropout': 0.4} - iteration 0 - loss: {'ner': 592.4566035866737}\n",
      "hyper: {'iterations': 10, 'minibatch_size': 16, 'dropout': 0.4} - iteration 1 - loss: {'ner': 73.2474560344282}\n",
      "hyper: {'iterations': 10, 'minibatch_size': 16, 'dropout': 0.4} - iteration 2 - loss: {'ner': 49.17397487244118}\n",
      "hyper: {'iterations': 10, 'minibatch_size': 16, 'dropout': 0.4} - iteration 3 - loss: {'ner': 20.58999931762144}\n",
      "hyper: {'iterations': 10, 'minibatch_size': 16, 'dropout': 0.4} - iteration 4 - loss: {'ner': 9.567938923613097}\n",
      "hyper: {'iterations': 10, 'minibatch_size': 16, 'dropout': 0.4} - iteration 5 - loss: {'ner': 9.624681578079445}\n",
      "hyper: {'iterations': 10, 'minibatch_size': 16, 'dropout': 0.4} - iteration 6 - loss: {'ner': 9.731630254781768}\n",
      "hyper: {'iterations': 10, 'minibatch_size': 16, 'dropout': 0.4} - iteration 7 - loss: {'ner': 5.452825993304725}\n",
      "hyper: {'iterations': 10, 'minibatch_size': 16, 'dropout': 0.4} - iteration 8 - loss: {'ner': 6.337216177635529}\n",
      "hyper: {'iterations': 10, 'minibatch_size': 16, 'dropout': 0.4} - iteration 9 - loss: {'ner': 1.8289067573943936}\n",
      "hyper: {'iterations': 10, 'minibatch_size': 16, 'dropout': 0.4} - f1-score on TRAIN_DATA : 99.95311767463666\n",
      "hyper: {'iterations': 10, 'minibatch_size': 16, 'dropout': 0.4} - f1-score on DEV_DATA: 99.86052998605301\n"
     ]
    },
    {
     "data": {
      "image/png": "[encoded data removed]",
      "text/plain": [
       "<Figure size 432x288 with 1 Axes>"
      ]
     },
     "metadata": {
      "needs_background": "light"
     },
     "output_type": "display_data"
    },
    {
     "name": "stdout",
     "output_type": "stream",
     "text": [
      "hyper: {'iterations': 10, 'minibatch_size': 16, 'dropout': 0.6} - iteration 0 - loss: {'ner': 757.4859988391399}\n",
      "hyper: {'iterations': 10, 'minibatch_size': 16, 'dropout': 0.6} - iteration 1 - loss: {'ner': 251.94466918124817}\n",
      "hyper: {'iterations': 10, 'minibatch_size': 16, 'dropout': 0.6} - iteration 2 - loss: {'ner': 94.21734467415013}\n",
      "hyper: {'iterations': 10, 'minibatch_size': 16, 'dropout': 0.6} - iteration 3 - loss: {'ner': 69.69877699204176}\n",
      "hyper: {'iterations': 10, 'minibatch_size': 16, 'dropout': 0.6} - iteration 4 - loss: {'ner': 51.59590691873749}\n",
      "hyper: {'iterations': 10, 'minibatch_size': 16, 'dropout': 0.6} - iteration 5 - loss: {'ner': 47.47872349740795}\n",
      "hyper: {'iterations': 10, 'minibatch_size': 16, 'dropout': 0.6} - iteration 6 - loss: {'ner': 42.741918770066036}\n",
      "hyper: {'iterations': 10, 'minibatch_size': 16, 'dropout': 0.6} - iteration 7 - loss: {'ner': 24.403510297596217}\n",
      "hyper: {'iterations': 10, 'minibatch_size': 16, 'dropout': 0.6} - iteration 8 - loss: {'ner': 12.522691854430072}\n",
      "hyper: {'iterations': 10, 'minibatch_size': 16, 'dropout': 0.6} - iteration 9 - loss: {'ner': 16.739904031790324}\n",
      "hyper: {'iterations': 10, 'minibatch_size': 16, 'dropout': 0.6} - f1-score on TRAIN_DATA : 99.90627928772258\n",
      "hyper: {'iterations': 10, 'minibatch_size': 16, 'dropout': 0.6} - f1-score on DEV_DATA: 100.0\n"
     ]
    },
    {
     "data": {
      "image/png": "[encoded data removed]",
      "text/plain": [
       "<Figure size 432x288 with 1 Axes>"
      ]
     },
     "metadata": {
      "needs_background": "light"
     },
     "output_type": "display_data"
    },
    {
     "name": "stdout",
     "output_type": "stream",
     "text": [
      "hyper: {'iterations': 10, 'minibatch_size': 32, 'dropout': 0.2} - iteration 0 - loss: {'ner': 768.2837406992912}\n",
      "hyper: {'iterations': 10, 'minibatch_size': 32, 'dropout': 0.2} - iteration 1 - loss: {'ner': 97.73809594970953}\n",
      "hyper: {'iterations': 10, 'minibatch_size': 32, 'dropout': 0.2} - iteration 2 - loss: {'ner': 40.32256063863227}\n",
      "hyper: {'iterations': 10, 'minibatch_size': 32, 'dropout': 0.2} - iteration 3 - loss: {'ner': 22.99495235383141}\n",
      "hyper: {'iterations': 10, 'minibatch_size': 32, 'dropout': 0.2} - iteration 4 - loss: {'ner': 6.085296244569082}\n",
      "hyper: {'iterations': 10, 'minibatch_size': 32, 'dropout': 0.2} - iteration 5 - loss: {'ner': 5.220591315385065}\n",
      "hyper: {'iterations': 10, 'minibatch_size': 32, 'dropout': 0.2} - iteration 6 - loss: {'ner': 3.1662337794723383}\n",
      "hyper: {'iterations': 10, 'minibatch_size': 32, 'dropout': 0.2} - iteration 7 - loss: {'ner': 2.8406476969501084}\n",
      "hyper: {'iterations': 10, 'minibatch_size': 32, 'dropout': 0.2} - iteration 8 - loss: {'ner': 2.076603880709577}\n",
      "hyper: {'iterations': 10, 'minibatch_size': 32, 'dropout': 0.2} - iteration 9 - loss: {'ner': 0.8896668665940006}\n",
      "hyper: {'iterations': 10, 'minibatch_size': 32, 'dropout': 0.2} - f1-score on TRAIN_DATA : 100.0\n",
      "hyper: {'iterations': 10, 'minibatch_size': 32, 'dropout': 0.2} - f1-score on DEV_DATA: 99.86052998605301\n"
     ]
    },
    {
     "data": {
      "image/png": "[encoded data removed]",
      "text/plain": [
       "<Figure size 432x288 with 1 Axes>"
      ]
     },
     "metadata": {
      "needs_background": "light"
     },
     "output_type": "display_data"
    },
    {
     "name": "stdout",
     "output_type": "stream",
     "text": [
      "hyper: {'iterations': 10, 'minibatch_size': 32, 'dropout': 0.4} - iteration 0 - loss: {'ner': 844.390485227108}\n",
      "hyper: {'iterations': 10, 'minibatch_size': 32, 'dropout': 0.4} - iteration 1 - loss: {'ner': 245.6984852552414}\n",
      "hyper: {'iterations': 10, 'minibatch_size': 32, 'dropout': 0.4} - iteration 2 - loss: {'ner': 70.09569048788944}\n",
      "hyper: {'iterations': 10, 'minibatch_size': 32, 'dropout': 0.4} - iteration 3 - loss: {'ner': 61.19790301568514}\n",
      "hyper: {'iterations': 10, 'minibatch_size': 32, 'dropout': 0.4} - iteration 4 - loss: {'ner': 36.480940416059745}\n",
      "hyper: {'iterations': 10, 'minibatch_size': 32, 'dropout': 0.4} - iteration 5 - loss: {'ner': 26.417368047608008}\n",
      "hyper: {'iterations': 10, 'minibatch_size': 32, 'dropout': 0.4} - iteration 6 - loss: {'ner': 9.239051225750401}\n",
      "hyper: {'iterations': 10, 'minibatch_size': 32, 'dropout': 0.4} - iteration 7 - loss: {'ner': 5.0603496862483075}\n",
      "hyper: {'iterations': 10, 'minibatch_size': 32, 'dropout': 0.4} - iteration 8 - loss: {'ner': 5.231102858699527}\n",
      "hyper: {'iterations': 10, 'minibatch_size': 32, 'dropout': 0.4} - iteration 9 - loss: {'ner': 7.265965818209549}\n",
      "hyper: {'iterations': 10, 'minibatch_size': 32, 'dropout': 0.4} - f1-score on TRAIN_DATA : 100.0\n",
      "hyper: {'iterations': 10, 'minibatch_size': 32, 'dropout': 0.4} - f1-score on DEV_DATA: 100.0\n"
     ]
    },
    {
     "data": {
      "image/png": "[encoded data removed]",
      "text/plain": [
       "<Figure size 432x288 with 1 Axes>"
      ]
     },
     "metadata": {
      "needs_background": "light"
     },
     "output_type": "display_data"
    },
    {
     "name": "stdout",
     "output_type": "stream",
     "text": [
      "hyper: {'iterations': 10, 'minibatch_size': 32, 'dropout': 0.6} - iteration 0 - loss: {'ner': 904.6722567081451}\n",
      "hyper: {'iterations': 10, 'minibatch_size': 32, 'dropout': 0.6} - iteration 1 - loss: {'ner': 572.8186285495758}\n",
      "hyper: {'iterations': 10, 'minibatch_size': 32, 'dropout': 0.6} - iteration 2 - loss: {'ner': 257.8718622289598}\n",
      "hyper: {'iterations': 10, 'minibatch_size': 32, 'dropout': 0.6} - iteration 3 - loss: {'ner': 97.0588361765258}\n",
      "hyper: {'iterations': 10, 'minibatch_size': 32, 'dropout': 0.6} - iteration 4 - loss: {'ner': 83.07633837747198}\n",
      "hyper: {'iterations': 10, 'minibatch_size': 32, 'dropout': 0.6} - iteration 5 - loss: {'ner': 74.21831179305445}\n",
      "hyper: {'iterations': 10, 'minibatch_size': 32, 'dropout': 0.6} - iteration 6 - loss: {'ner': 62.33523625998532}\n",
      "hyper: {'iterations': 10, 'minibatch_size': 32, 'dropout': 0.6} - iteration 7 - loss: {'ner': 59.75495295981091}\n",
      "hyper: {'iterations': 10, 'minibatch_size': 32, 'dropout': 0.6} - iteration 8 - loss: {'ner': 48.98354740821378}\n",
      "hyper: {'iterations': 10, 'minibatch_size': 32, 'dropout': 0.6} - iteration 9 - loss: {'ner': 42.71986853645649}\n",
      "hyper: {'iterations': 10, 'minibatch_size': 32, 'dropout': 0.6} - f1-score on TRAIN_DATA : 99.39393939393939\n",
      "hyper: {'iterations': 10, 'minibatch_size': 32, 'dropout': 0.6} - f1-score on DEV_DATA: 99.86091794158554\n"
     ]
    },
    {
     "data": {
      "image/png": "[encoded data removed]",
      "text/plain": [
       "<Figure size 432x288 with 1 Axes>"
      ]
     },
     "metadata": {
      "needs_background": "light"
     },
     "output_type": "display_data"
    },
    {
     "name": "stdout",
     "output_type": "stream",
     "text": [
      "Training the model took 0:10:15.443152\n"
     ]
    }
   ],
   "source": [
    "start = datetime.now()\n",
    "\n",
    "max_iterations = 10\n",
    "minibatch_sizes = [2, 4, 8, 16, 32]\n",
    "dropout_values = [0.2, 0.4, 0.6]\n",
    "\n",
    "result_id = 0\n",
    "results = []\n",
    "results_df = pd.DataFrame(columns=['id', 'iterations', 'minibatch_size', 'dropout', 'f1score_train', 'f1score_dev', 'error_train', 'error_dev', 'bias', 'variance'])\n",
    "\n",
    "for minibatch_size in minibatch_sizes:\n",
    "    for dropout in dropout_values:\n",
    "        nlp = spacy.blank('de')\n",
    "        ner = nlp.create_pipe('ner')\n",
    "        nlp.add_pipe(ner)\n",
    "        ner.add_label('QUANTITY')\n",
    "        ner.add_label('UNIT')\n",
    "        ner.add_label('NAME')\n",
    "        \n",
    "        optimizer = nlp.begin_training()\n",
    "\n",
    "        hyper = {'iterations': max_iterations, 'minibatch_size': minibatch_size, 'dropout': dropout}\n",
    "        \n",
    "        loss_history = []\n",
    "        for iteration in range(hyper['iterations']):\n",
    "            random.shuffle(TRAIN_DATA)\n",
    "\n",
    "            losses = {}\n",
    "\n",
    "            batches = spacy.util.minibatch(TRAIN_DATA, size=hyper['minibatch_size'])\n",
    "            for batch in batches:\n",
    "                texts = []\n",
    "                annotations = []\n",
    "                for text, entity_offsets in batch:\n",
    "                    doc = nlp.make_doc(text)\n",
    "                    gold = GoldParse(doc, entities=entity_offsets['entities'])\n",
    "                    spacy.gold.biluo_tags_from_offsets(doc, entity_offsets['entities'])\n",
    "                    texts.append(doc)\n",
    "                    annotations.append(gold)\n",
    "                nlp.update(texts, annotations, losses=losses, sgd=optimizer, drop=hyper['dropout'])\n",
    "\n",
    "            loss_history.append(losses['ner'])\n",
    "            print(f'hyper: {hyper} - iteration {iteration} - loss: {losses}')\n",
    "        \n",
    "        f1score_train = evaluate(nlp, TRAIN_DATA)\n",
    "        f1score_dev = evaluate(nlp, DEV_DATA)\n",
    "        error_train = 100.0 - f1score_train\n",
    "        error_dev = 100.0 - f1score_dev\n",
    "        bias = error_train\n",
    "        variance = error_dev - error_train\n",
    "        \n",
    "        print(f'hyper: {hyper} - f1-score on TRAIN_DATA : {f1score_train}')\n",
    "        print(f'hyper: {hyper} - f1-score on DEV_DATA: {f1score_dev}')\n",
    "        plot_loss(loss_history)\n",
    "        \n",
    "        results_df = results_df.append({\n",
    "            'id': int(result_id), \n",
    "            'iterations': hyper['iterations'], \n",
    "            'minibatch_size': hyper['minibatch_size'], \n",
    "            'dropout': hyper['dropout'], \n",
    "            'f1score_train': f1score_train,\n",
    "            'f1score_dev': f1score_dev,\n",
    "            'error_train': 100.0 - f1score_train, \n",
    "            'error_dev': 100.0 - f1score_dev,\n",
    "            'bias': bias,\n",
    "            'variance': variance\n",
    "        }, ignore_index=True)\n",
    "        \n",
    "        results.append({'model': nlp, 'loss_history': loss_history})\n",
    "        \n",
    "        result_id += 1\n",
    "\n",
    "end = datetime.now()\n",
    "\n",
    "print(f\"Training the model took {end - start}\")"
   ]
  },
  {
   "cell_type": "markdown",
   "metadata": {},
   "source": [
    "# Choose the Best Model\n",
    "\n",
    "A dataframe was created where I could visualize the bias and variance for each combination of hyperparameters in a tabular manner.\n",
    "After sorting the dataframe by those metrics I then chose the model with the lowest values."
   ]
  },
  {
   "cell_type": "code",
   "execution_count": 12,
   "metadata": {},
   "outputs": [],
   "source": [
    "results_df.to_csv('model/model_comparison.csv')"
   ]
  },
  {
   "cell_type": "code",
   "execution_count": 13,
   "metadata": {},
   "outputs": [
    {
     "data": {
      "text/html": [
       "<div>\n",
       "<style scoped>\n",
       "    .dataframe tbody tr th:only-of-type {\n",
       "        vertical-align: middle;\n",
       "    }\n",
       "\n",
       "    .dataframe tbody tr th {\n",
       "        vertical-align: top;\n",
       "    }\n",
       "\n",
       "    .dataframe thead th {\n",
       "        text-align: right;\n",
       "    }\n",
       "</style>\n",
       "<table border=\"1\" class=\"dataframe\">\n",
       "  <thead>\n",
       "    <tr style=\"text-align: right;\">\n",
       "      <th></th>\n",
       "      <th>id</th>\n",
       "      <th>iterations</th>\n",
       "      <th>minibatch_size</th>\n",
       "      <th>dropout</th>\n",
       "      <th>f1score_train</th>\n",
       "      <th>f1score_dev</th>\n",
       "      <th>error_train</th>\n",
       "      <th>error_dev</th>\n",
       "      <th>bias</th>\n",
       "      <th>variance</th>\n",
       "    </tr>\n",
       "  </thead>\n",
       "  <tbody>\n",
       "    <tr>\n",
       "      <th>3</th>\n",
       "      <td>3.0</td>\n",
       "      <td>10.0</td>\n",
       "      <td>4.0</td>\n",
       "      <td>0.2</td>\n",
       "      <td>100.000000</td>\n",
       "      <td>100.000000</td>\n",
       "      <td>0.000000</td>\n",
       "      <td>0.000000</td>\n",
       "      <td>0.000000</td>\n",
       "      <td>0.000000</td>\n",
       "    </tr>\n",
       "    <tr>\n",
       "      <th>6</th>\n",
       "      <td>6.0</td>\n",
       "      <td>10.0</td>\n",
       "      <td>8.0</td>\n",
       "      <td>0.2</td>\n",
       "      <td>100.000000</td>\n",
       "      <td>100.000000</td>\n",
       "      <td>0.000000</td>\n",
       "      <td>0.000000</td>\n",
       "      <td>0.000000</td>\n",
       "      <td>0.000000</td>\n",
       "    </tr>\n",
       "    <tr>\n",
       "      <th>13</th>\n",
       "      <td>13.0</td>\n",
       "      <td>10.0</td>\n",
       "      <td>32.0</td>\n",
       "      <td>0.4</td>\n",
       "      <td>100.000000</td>\n",
       "      <td>100.000000</td>\n",
       "      <td>0.000000</td>\n",
       "      <td>0.000000</td>\n",
       "      <td>0.000000</td>\n",
       "      <td>0.000000</td>\n",
       "    </tr>\n",
       "    <tr>\n",
       "      <th>12</th>\n",
       "      <td>12.0</td>\n",
       "      <td>10.0</td>\n",
       "      <td>32.0</td>\n",
       "      <td>0.2</td>\n",
       "      <td>100.000000</td>\n",
       "      <td>99.860530</td>\n",
       "      <td>0.000000</td>\n",
       "      <td>0.139470</td>\n",
       "      <td>0.000000</td>\n",
       "      <td>0.139470</td>\n",
       "    </tr>\n",
       "    <tr>\n",
       "      <th>0</th>\n",
       "      <td>0.0</td>\n",
       "      <td>10.0</td>\n",
       "      <td>2.0</td>\n",
       "      <td>0.2</td>\n",
       "      <td>99.953118</td>\n",
       "      <td>99.860530</td>\n",
       "      <td>0.046882</td>\n",
       "      <td>0.139470</td>\n",
       "      <td>0.046882</td>\n",
       "      <td>0.092588</td>\n",
       "    </tr>\n",
       "    <tr>\n",
       "      <th>10</th>\n",
       "      <td>10.0</td>\n",
       "      <td>10.0</td>\n",
       "      <td>16.0</td>\n",
       "      <td>0.4</td>\n",
       "      <td>99.953118</td>\n",
       "      <td>99.860530</td>\n",
       "      <td>0.046882</td>\n",
       "      <td>0.139470</td>\n",
       "      <td>0.046882</td>\n",
       "      <td>0.092588</td>\n",
       "    </tr>\n",
       "    <tr>\n",
       "      <th>1</th>\n",
       "      <td>1.0</td>\n",
       "      <td>10.0</td>\n",
       "      <td>2.0</td>\n",
       "      <td>0.4</td>\n",
       "      <td>99.906279</td>\n",
       "      <td>100.000000</td>\n",
       "      <td>0.093721</td>\n",
       "      <td>0.000000</td>\n",
       "      <td>0.093721</td>\n",
       "      <td>-0.093721</td>\n",
       "    </tr>\n",
       "    <tr>\n",
       "      <th>8</th>\n",
       "      <td>8.0</td>\n",
       "      <td>10.0</td>\n",
       "      <td>8.0</td>\n",
       "      <td>0.6</td>\n",
       "      <td>99.906279</td>\n",
       "      <td>100.000000</td>\n",
       "      <td>0.093721</td>\n",
       "      <td>0.000000</td>\n",
       "      <td>0.093721</td>\n",
       "      <td>-0.093721</td>\n",
       "    </tr>\n",
       "    <tr>\n",
       "      <th>9</th>\n",
       "      <td>9.0</td>\n",
       "      <td>10.0</td>\n",
       "      <td>16.0</td>\n",
       "      <td>0.2</td>\n",
       "      <td>99.906279</td>\n",
       "      <td>100.000000</td>\n",
       "      <td>0.093721</td>\n",
       "      <td>0.000000</td>\n",
       "      <td>0.093721</td>\n",
       "      <td>-0.093721</td>\n",
       "    </tr>\n",
       "    <tr>\n",
       "      <th>11</th>\n",
       "      <td>11.0</td>\n",
       "      <td>10.0</td>\n",
       "      <td>16.0</td>\n",
       "      <td>0.6</td>\n",
       "      <td>99.906279</td>\n",
       "      <td>100.000000</td>\n",
       "      <td>0.093721</td>\n",
       "      <td>0.000000</td>\n",
       "      <td>0.093721</td>\n",
       "      <td>-0.093721</td>\n",
       "    </tr>\n",
       "    <tr>\n",
       "      <th>4</th>\n",
       "      <td>4.0</td>\n",
       "      <td>10.0</td>\n",
       "      <td>4.0</td>\n",
       "      <td>0.4</td>\n",
       "      <td>99.906279</td>\n",
       "      <td>99.860530</td>\n",
       "      <td>0.093721</td>\n",
       "      <td>0.139470</td>\n",
       "      <td>0.093721</td>\n",
       "      <td>0.045749</td>\n",
       "    </tr>\n",
       "    <tr>\n",
       "      <th>5</th>\n",
       "      <td>5.0</td>\n",
       "      <td>10.0</td>\n",
       "      <td>4.0</td>\n",
       "      <td>0.6</td>\n",
       "      <td>99.859485</td>\n",
       "      <td>100.000000</td>\n",
       "      <td>0.140515</td>\n",
       "      <td>0.000000</td>\n",
       "      <td>0.140515</td>\n",
       "      <td>-0.140515</td>\n",
       "    </tr>\n",
       "    <tr>\n",
       "      <th>7</th>\n",
       "      <td>7.0</td>\n",
       "      <td>10.0</td>\n",
       "      <td>8.0</td>\n",
       "      <td>0.4</td>\n",
       "      <td>99.859485</td>\n",
       "      <td>100.000000</td>\n",
       "      <td>0.140515</td>\n",
       "      <td>0.000000</td>\n",
       "      <td>0.140515</td>\n",
       "      <td>-0.140515</td>\n",
       "    </tr>\n",
       "    <tr>\n",
       "      <th>2</th>\n",
       "      <td>2.0</td>\n",
       "      <td>10.0</td>\n",
       "      <td>2.0</td>\n",
       "      <td>0.6</td>\n",
       "      <td>99.812734</td>\n",
       "      <td>100.000000</td>\n",
       "      <td>0.187266</td>\n",
       "      <td>0.000000</td>\n",
       "      <td>0.187266</td>\n",
       "      <td>-0.187266</td>\n",
       "    </tr>\n",
       "    <tr>\n",
       "      <th>14</th>\n",
       "      <td>14.0</td>\n",
       "      <td>10.0</td>\n",
       "      <td>32.0</td>\n",
       "      <td>0.6</td>\n",
       "      <td>99.393939</td>\n",
       "      <td>99.860918</td>\n",
       "      <td>0.606061</td>\n",
       "      <td>0.139082</td>\n",
       "      <td>0.606061</td>\n",
       "      <td>-0.466979</td>\n",
       "    </tr>\n",
       "  </tbody>\n",
       "</table>\n",
       "</div>"
      ],
      "text/plain": [
       "      id  iterations  minibatch_size  dropout  f1score_train  f1score_dev  \\\n",
       "3    3.0        10.0             4.0      0.2     100.000000   100.000000   \n",
       "6    6.0        10.0             8.0      0.2     100.000000   100.000000   \n",
       "13  13.0        10.0            32.0      0.4     100.000000   100.000000   \n",
       "12  12.0        10.0            32.0      0.2     100.000000    99.860530   \n",
       "0    0.0        10.0             2.0      0.2      99.953118    99.860530   \n",
       "10  10.0        10.0            16.0      0.4      99.953118    99.860530   \n",
       "1    1.0        10.0             2.0      0.4      99.906279   100.000000   \n",
       "8    8.0        10.0             8.0      0.6      99.906279   100.000000   \n",
       "9    9.0        10.0            16.0      0.2      99.906279   100.000000   \n",
       "11  11.0        10.0            16.0      0.6      99.906279   100.000000   \n",
       "4    4.0        10.0             4.0      0.4      99.906279    99.860530   \n",
       "5    5.0        10.0             4.0      0.6      99.859485   100.000000   \n",
       "7    7.0        10.0             8.0      0.4      99.859485   100.000000   \n",
       "2    2.0        10.0             2.0      0.6      99.812734   100.000000   \n",
       "14  14.0        10.0            32.0      0.6      99.393939    99.860918   \n",
       "\n",
       "    error_train  error_dev      bias  variance  \n",
       "3      0.000000   0.000000  0.000000  0.000000  \n",
       "6      0.000000   0.000000  0.000000  0.000000  \n",
       "13     0.000000   0.000000  0.000000  0.000000  \n",
       "12     0.000000   0.139470  0.000000  0.139470  \n",
       "0      0.046882   0.139470  0.046882  0.092588  \n",
       "10     0.046882   0.139470  0.046882  0.092588  \n",
       "1      0.093721   0.000000  0.093721 -0.093721  \n",
       "8      0.093721   0.000000  0.093721 -0.093721  \n",
       "9      0.093721   0.000000  0.093721 -0.093721  \n",
       "11     0.093721   0.000000  0.093721 -0.093721  \n",
       "4      0.093721   0.139470  0.093721  0.045749  \n",
       "5      0.140515   0.000000  0.140515 -0.140515  \n",
       "7      0.140515   0.000000  0.140515 -0.140515  \n",
       "2      0.187266   0.000000  0.187266 -0.187266  \n",
       "14     0.606061   0.139082  0.606061 -0.466979  "
      ]
     },
     "execution_count": 13,
     "metadata": {},
     "output_type": "execute_result"
    }
   ],
   "source": [
    "sorted_results_df = results_df.sort_values(['bias', 'variance'])\n",
    "sorted_results_df.head(20)"
   ]
  },
  {
   "cell_type": "markdown",
   "metadata": {},
   "source": [
    "# Saving Model to Disk\n",
    "\n",
    "Let's save the model to disk with a suitable name in order to be able to load this model directly at a later point."
   ]
  },
  {
   "cell_type": "code",
   "execution_count": 23,
   "metadata": {},
   "outputs": [],
   "source": [
    "best_model = sorted_results_df.iloc[0]\n",
    "model_id = int(best_model['id'])\n",
    "model = results[model_id]['model']\n",
    "model_loss = results[model_id]['loss_history'][-1]\n",
    "now = datetime.today().strftime('%Y-%m-%d_%H-%M-%S')\n",
    "model_name = f'model_{now}_iterations-{best_model.iterations}_batchsize-{best_model.minibatch_size}-dropout-{best_model.dropout}_loss-{model_loss:.2f}'\n",
    "Path(f'./model').mkdir(parents=True, exist_ok=True)\n",
    "model.to_disk(f'./model/{model_name}')"
   ]
  },
  {
   "cell_type": "markdown",
   "metadata": {},
   "source": [
    "# Loading Model from Disk"
   ]
  },
  {
   "cell_type": "code",
   "execution_count": 24,
   "metadata": {},
   "outputs": [],
   "source": [
    "model_to_load = model_name;\n",
    "nlp = spacy.load(f'model/{model_to_load}')"
   ]
  },
  {
   "cell_type": "markdown",
   "metadata": {},
   "source": [
    "# Testing Model\n",
    "\n",
    "Now let's test the model. For that let's define a function that returns a list of entities found in a given text."
   ]
  },
  {
   "cell_type": "code",
   "execution_count": 29,
   "metadata": {},
   "outputs": [],
   "source": [
    "def get_entities(text):\n",
    "    \"\"\" Returns a list of entities found in text \"\"\"\n",
    "    doc = nlp(text)\n",
    "    return [(ent.label_, ent.text) for ent in doc.ents]"
   ]
  },
  {
   "cell_type": "markdown",
   "metadata": {},
   "source": [
    "Let's now run that function on 10 random datapoints from the test set, which the model hasn't seen before"
   ]
  },
  {
   "cell_type": "code",
   "execution_count": 26,
   "metadata": {},
   "outputs": [
    {
     "name": "stdout",
     "output_type": "stream",
     "text": [
      "1.00 TL Knoblauchpulver \n",
      "  [('QUANTITY', '1.00'), ('UNIT', 'TL'), ('NAME', 'Knoblauchpulver')]\n",
      "2.00 Zehen Knoblauch \n",
      "  [('QUANTITY', '2.00'), ('UNIT', 'Zehen'), ('NAME', 'Knoblauch')]\n",
      "600.00 g Möhren \n",
      "  [('QUANTITY', '600.00'), ('UNIT', 'g'), ('NAME', 'Möhren')]\n",
      "3.00 EL Olivenöl \n",
      "  [('QUANTITY', '3.00'), ('UNIT', 'EL'), ('NAME', 'Olivenöl')]\n",
      "40.00 g Kürbiskerne \n",
      "  [('QUANTITY', '40.00'), ('UNIT', 'g'), ('NAME', 'Kürbiskerne')]\n",
      "0.24 TL Oregano \n",
      "  [('QUANTITY', '0.24'), ('UNIT', 'TL'), ('NAME', 'Oregano')]\n",
      "0.52 EL Pimentón (picante) \n",
      "  [('QUANTITY', '0.52'), ('UNIT', 'EL'), ('NAME', 'Pimentón'), ('NAME', 'picante')]\n",
      "40.00 g Mandeln \n",
      "  [('QUANTITY', '40.00'), ('UNIT', 'g'), ('NAME', 'Mandeln')]\n",
      "0.32 Packungen Mandelblättchen \n",
      "  [('QUANTITY', '0.32'), ('UNIT', 'Packungen'), ('NAME', 'Mandelblättchen')]\n",
      "1.00 Dosen Mais \n",
      "  [('QUANTITY', '1.00'), ('UNIT', 'Dosen'), ('NAME', 'Mais')]\n"
     ]
    }
   ],
   "source": [
    "examples_to_try = 10\n",
    "for i in range(examples_to_try):\n",
    "    random.shuffle(TEST_DATA)\n",
    "    text, _ = TEST_DATA[i]\n",
    "    print(text, '\\n ', get_entities(text))"
   ]
  },
  {
   "cell_type": "code",
   "execution_count": 27,
   "metadata": {},
   "outputs": [
    {
     "data": {
      "text/plain": [
       "[('QUANTITY', '2'), ('UNIT', 'tl'), ('NAME', 'anis')]"
      ]
     },
     "execution_count": 27,
     "metadata": {},
     "output_type": "execute_result"
    }
   ],
   "source": [
    "get_entities('2 tl anis')"
   ]
  },
  {
   "cell_type": "markdown",
   "metadata": {},
   "source": [
    "It looks good! Our model seems to do well on these examples of the test set."
   ]
  },
  {
   "cell_type": "markdown",
   "metadata": {},
   "source": [
    "# Define a Metric\n",
    "\n",
    "Different types of metrics can be used:\n",
    "1. accuracy:\n",
    "  - `(true positives + true negatives) / total`\n",
    "  - In other words: correctly predicted / total\n",
    "  - Question accuracy answers: How many selected items were correctly categorized?\n",
    "2. recall:\n",
    "  - `true positives / (true positives + false negatives)`\n",
    "  - In other words: words correctly identified as entities / all words that are entities\n",
    "  - Question recall answers: How many relevant items are selected?\n",
    "3. precision:\n",
    "  - `true positives / (true positives + false positives)`\n",
    "  - In other words: words correctly identified as entities / words correctly and incorrectly identified as entities\n",
    "  - Question precision answers: How many selected items are relevant?\n",
    "4. F1-score:\n",
    "  - `2 · precision · recall / (precision + recall)`\n",
    "  - In other words: It tries to optimize both precision and recall. F1-score 1 means perfect precision and recall. F1-score 0 means either precision or recall is zero.\n",
    "\n",
    "`Accuracy` can be misleading if we have imbalanced data.\n",
    "\n",
    "`Recall` is in our case more important than `precision`, since we want to catch all ingredients,\n",
    "and we don't care if some non-ingredients are marked as such, we can just delete them later in the app with a\n",
    "single click of a button. On the other hand not recognizing ingredients would force us to type them manually.\n",
    "\n",
    "We still don't want to have too many non-ingredients in our ingredient's list though, so we could use the `F1-Score`\n",
    "which combines `recall` and `precision` as a metric for our problem.\n",
    "\n",
    "Another approach could be to use precision as a **satisficing metric** and recall as an **optimizing metric**.\n",
    "\n",
    "For this problem I am going to use the `F1-Score` as a metric, since it optimizes both for recall and precision and we want both to be reasonably good."
   ]
  },
  {
   "cell_type": "markdown",
   "metadata": {},
   "source": [
    "# Evaluating Model\n",
    "\n",
    "Let's now calculate the **F1-Score** on all 3 sets."
   ]
  },
  {
   "cell_type": "code",
   "execution_count": 28,
   "metadata": {},
   "outputs": [
    {
     "name": "stdout",
     "output_type": "stream",
     "text": [
      "F1 score on TRAIN_DATA:\n",
      "100.0\n",
      "\n",
      "F1 score on DEV_DATA:\n",
      "100.0\n",
      "\n",
      "F1 score on TEST_DATA:\n",
      "99.86130374479889\n",
      "\n"
     ]
    }
   ],
   "source": [
    "pp('F1 score on TRAIN_DATA', evaluate(nlp, TRAIN_DATA))\n",
    "pp('F1 score on DEV_DATA', evaluate(nlp, DEV_DATA))\n",
    "pp('F1 score on TEST_DATA', evaluate(nlp, TEST_DATA))"
   ]
  },
  {
   "cell_type": "markdown",
   "metadata": {},
   "source": [
    "# Conclusion\n",
    "\n",
    "Comparing it to the benchmark, which achieved a recall of 99.83% but a precision of 0.26% and hence an f1 score of 0.53%, my model seems to be better suited for my problem since it also optimizes for precision achieving a much higher f1-score, which is the metric we were trying to optimize.\n",
    "\n",
    "Taking into consideration that my model does well on the test set, which is data the model hasn’t seen before, I would argue this model is suited for this problem and quite robust for this type of data."
   ]
  }
 ],
 "metadata": {
  "kernelspec": {
   "display_name": "conda_python3",
   "language": "python",
   "name": "conda_python3"
  },
  "language_info": {
   "codemirror_mode": {
    "name": "ipython",
    "version": 3
   },
   "file_extension": ".py",
   "mimetype": "text/x-python",
   "name": "python",
   "nbconvert_exporter": "python",
   "pygments_lexer": "ipython3",
   "version": "3.6.13"
  }
 },
 "nbformat": 4,
 "nbformat_minor": 4
}
