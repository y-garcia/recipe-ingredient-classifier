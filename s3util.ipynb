{
 "cells": [
  {
   "cell_type": "markdown",
   "id": "347ca8ae",
   "metadata": {},
   "source": [
    "# S3 Uploads and Downloads\n",
    "\n",
    "This is a util notebook to save all models in the model folder to s3 and to download any model from s3 by name."
   ]
  },
  {
   "cell_type": "markdown",
   "id": "0e360db3",
   "metadata": {},
   "source": [
    "We first zip all models in the model folder, upload them to s3 and remove them from the local folder in order to free space in this notebook instance."
   ]
  },
  {
   "cell_type": "code",
   "execution_count": 1,
   "id": "60eb62cb",
   "metadata": {},
   "outputs": [
    {
     "name": "stdout",
     "output_type": "stream",
     "text": [
      "Zipping model/benchmark_model_2021-03-13_14-57-29_loss-0.02-test ...\n",
      "Uploading model/benchmark_model_2021-03-13_14-57-29_loss-0.02-test.zip to capstone-project/model/benchmark_model_2021-03-13_14-57-29_loss-0.02-test.zip ...\n",
      "Removing model/benchmark_model_2021-03-13_14-57-29_loss-0.02-test.zip ...\n",
      "Removing model/benchmark_model_2021-03-13_14-57-29_loss-0.02-test ...\n",
      "Zipping model/.ipynb_checkpoints ...\n",
      "Uploading model/.ipynb_checkpoints.zip to capstone-project/model/.ipynb_checkpoints.zip ...\n",
      "Removing model/.ipynb_checkpoints.zip ...\n",
      "Removing model/.ipynb_checkpoints ...\n",
      "Zipping model/model_2021-08-03_14-23-45_iterations-10.0_batchsize-4.0-dropout-0.2_loss-3.65 ...\n",
      "Uploading model/model_2021-08-03_14-23-45_iterations-10.0_batchsize-4.0-dropout-0.2_loss-3.65.zip to capstone-project/model/model_2021-08-03_14-23-45_iterations-10.0_batchsize-4.0-dropout-0.2_loss-3.65.zip ...\n",
      "Removing model/model_2021-08-03_14-23-45_iterations-10.0_batchsize-4.0-dropout-0.2_loss-3.65.zip ...\n",
      "Removing model/model_2021-08-03_14-23-45_iterations-10.0_batchsize-4.0-dropout-0.2_loss-3.65 ...\n"
     ]
    }
   ],
   "source": [
    "from s3util import S3Util\n",
    "s3util = S3Util()\n",
    "s3util.save_models_to_s3()"
   ]
  },
  {
   "cell_type": "markdown",
   "id": "93f6f187",
   "metadata": {},
   "source": [
    "Then we download a single model from s3 by name."
   ]
  },
  {
   "cell_type": "code",
   "execution_count": 2,
   "id": "00d9e6c3",
   "metadata": {},
   "outputs": [
    {
     "name": "stdout",
     "output_type": "stream",
     "text": [
      "Downloading model capstone-project/model/benchmark_model_2021-03-13_14-57-29_loss-0.02.zip to model/benchmark_model_2021-03-13_14-57-29_loss-0.02.zip ...\n",
      "model/benchmark_model_2021-03-13_14-57-29_loss-0.02.zip  12830503 / 12830503  (100.00%)"
     ]
    }
   ],
   "source": [
    "model_name = 'benchmark_model_2021-03-13_14-57-29_loss-0.02'\n",
    "s3util.get_model_from_s3(model_name)"
   ]
  },
  {
   "cell_type": "markdown",
   "id": "f3c363ca",
   "metadata": {},
   "source": [
    "After the model has been downloaded as a zip file, it is unpacked and the zip file is deleted."
   ]
  },
  {
   "cell_type": "code",
   "execution_count": 4,
   "id": "ba408245",
   "metadata": {},
   "outputs": [
    {
     "name": "stdout",
     "output_type": "stream",
     "text": [
      "Unzipping model/benchmark_model_2021-03-13_14-57-29_loss-0.02.zip ...\n",
      "Removing model/benchmark_model_2021-03-13_14-57-29_loss-0.02.zip ...\n"
     ]
    }
   ],
   "source": [
    "s3util.unpack(model_name)"
   ]
  }
 ],
 "metadata": {
  "kernelspec": {
   "display_name": "conda_python3",
   "language": "python",
   "name": "conda_python3"
  },
  "language_info": {
   "codemirror_mode": {
    "name": "ipython",
    "version": 3
   },
   "file_extension": ".py",
   "mimetype": "text/x-python",
   "name": "python",
   "nbconvert_exporter": "python",
   "pygments_lexer": "ipython3",
   "version": "3.6.13"
  }
 },
 "nbformat": 4,
 "nbformat_minor": 5
}
