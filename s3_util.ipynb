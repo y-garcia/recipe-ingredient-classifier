{
 "cells": [
  {
   "cell_type": "code",
   "execution_count": null,
   "id": "executive-costume",
   "metadata": {},
   "outputs": [],
   "source": [
    "import sagemaker\n",
    "import boto3\n",
    "import os\n",
    "import shutil"
   ]
  },
  {
   "cell_type": "code",
   "execution_count": null,
   "id": "exotic-argument",
   "metadata": {},
   "outputs": [],
   "source": [
    "SESSION = sagemaker.Session()\n",
    "BUCKET_NAME = SESSION.default_bucket()\n",
    "FOLDER = 'capstone-project'\n",
    "S3 = boto3.client('s3')\n",
    "BUCKET = boto3.Session().resource('s3').Bucket(BUCKET_NAME)\n",
    "DATA_DIRECTORY = 'data'\n",
    "MODEL_DIRECTORY = 'model'"
   ]
  },
  {
   "cell_type": "code",
   "execution_count": null,
   "id": "tracked-salmon",
   "metadata": {},
   "outputs": [],
   "source": [
    "def save_data_to_s3(data_directory):\n",
    "    for entry in os.scandir(data_directory):\n",
    "        local_file =  os.path.join(data_directory, entry.name)\n",
    "        s3_file = os.path.join(FOLDER, local_file)\n",
    "        BUCKET.Object(s3_file).upload_file(local_file)\n",
    "        os.remove(local_file)"
   ]
  },
  {
   "cell_type": "code",
   "execution_count": null,
   "id": "medical-cargo",
   "metadata": {},
   "outputs": [],
   "source": [
    "def save_models_to_s3(model_directory):\n",
    "    for entry in os.scandir(model_directory):\n",
    "        if(entry.is_dir()):\n",
    "            print(f'Zipping {entry.path} ...')\n",
    "            shutil.make_archive(entry.path, 'zip', model_directory)\n",
    "            zip_file = f'{os.path.join(model_directory, entry.name)}.zip'\n",
    "            s3_file = os.path.join(FOLDER, zip_file)\n",
    "            print(f'Uploading {zip_file} to {s3_file} ...')\n",
    "            BUCKET.Object(s3_file).upload_file(zip_file)\n",
    "            print(f'Removing {zip_file} ...')\n",
    "            os.remove(zip_file)\n",
    "            print(f'Removing {entry.path} ...')\n",
    "            shutil.rmtree(entry.path)"
   ]
  },
  {
   "cell_type": "code",
   "execution_count": null,
   "id": "arranged-lawsuit",
   "metadata": {},
   "outputs": [],
   "source": [
    "def get_data_from_s3(data_directory, filenames):\n",
    "    for filename in filenames:\n",
    "        s3_file = os.path.join(FOLDER, data_directory, filename)\n",
    "        local_file = os.path.join(data_directory, filename)\n",
    "        print(f'Downloading {s3_file} to {local_file}...')\n",
    "        S3.download_file(BUCKET_NAME, s3_file, local_file)"
   ]
  },
  {
   "cell_type": "code",
   "execution_count": null,
   "id": "hydraulic-sport",
   "metadata": {},
   "outputs": [],
   "source": [
    "get_data_from_s3(DATA_DIRECTORY, ['data.csv', 'recipes.json'])"
   ]
  },
  {
   "cell_type": "code",
   "execution_count": null,
   "id": "fallen-entity",
   "metadata": {},
   "outputs": [],
   "source": [
    "save_models_to_s3(MODEL_DIRECTORY)"
   ]
  }
 ],
 "metadata": {
  "kernelspec": {
   "display_name": "conda_python3",
   "language": "python",
   "name": "conda_python3"
  },
  "language_info": {
   "codemirror_mode": {
    "name": "ipython",
    "version": 3
   },
   "file_extension": ".py",
   "mimetype": "text/x-python",
   "name": "python",
   "nbconvert_exporter": "python",
   "pygments_lexer": "ipython3",
   "version": "3.6.10"
  }
 },
 "nbformat": 4,
 "nbformat_minor": 5
}
