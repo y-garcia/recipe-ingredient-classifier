{
 "cells": [
  {
   "cell_type": "markdown",
   "metadata": {},
   "source": [
    "# Datasets and Inputs"
   ]
  },
  {
   "cell_type": "code",
   "execution_count": 2,
   "metadata": {},
   "outputs": [],
   "source": [
    "import pandas as pd"
   ]
  },
  {
   "cell_type": "markdown",
   "metadata": {},
   "source": [
    "This is a classification problem where the model takes as input plain text and produces a list of words contained in that text and classifies them as corresponding to a particular entity.\n",
    "\n",
    "Given the plain text of a recipe’s ingredient, find and label its parts: quantity, unit of measure, ingredient name.\n",
    "\n",
    "For example, given following list of ingredients in plain text\n",
    "\n",
    "```\n",
    "INGREDIENTS \n",
    "4 large eggs\n",
    "1/4 cup milk\n",
    "pinch salt\n",
    "pinch pepper\n",
    "2 tsp. butter\n",
    "```\n",
    "\n",
    "Extract the information in this manner:\n",
    "\n",
    "```\n",
    "Ingredients = [eggs, milk, salt, pepper, butter]\n",
    "Quantities = [4, 1/4, null, null, 2]\n",
    "Units = [null, cup, pinch, pinch, tsp.]\n",
    "```\n",
    "\n",
    "Since I already have a list of recipes (in german), I will use those ingredients and label all parts myself in a semiautomatic way, since they are already stored in a structured manner in the database.\n",
    "\n",
    "Below you can see an excerpt of the data which contains 573 rows in total:"
   ]
  },
  {
   "cell_type": "code",
   "execution_count": 4,
   "metadata": {},
   "outputs": [
    {
     "name": "stdout",
     "output_type": "stream",
     "text": [
      "Total number of rows: 573\n"
     ]
    },
    {
     "data": {
      "text/html": [
       "<div>\n",
       "<style scoped>\n",
       "    .dataframe tbody tr th:only-of-type {\n",
       "        vertical-align: middle;\n",
       "    }\n",
       "\n",
       "    .dataframe tbody tr th {\n",
       "        vertical-align: top;\n",
       "    }\n",
       "\n",
       "    .dataframe thead th {\n",
       "        text-align: right;\n",
       "    }\n",
       "</style>\n",
       "<table border=\"1\" class=\"dataframe\">\n",
       "  <thead>\n",
       "    <tr style=\"text-align: right;\">\n",
       "      <th></th>\n",
       "      <th>ingredient</th>\n",
       "      <th>quantity</th>\n",
       "      <th>unit</th>\n",
       "      <th>name</th>\n",
       "    </tr>\n",
       "  </thead>\n",
       "  <tbody>\n",
       "    <tr>\n",
       "      <th>0</th>\n",
       "      <td>2.00 Becher süße Sahne</td>\n",
       "      <td>2.00</td>\n",
       "      <td>Becher</td>\n",
       "      <td>süße Sahne</td>\n",
       "    </tr>\n",
       "    <tr>\n",
       "      <th>1</th>\n",
       "      <td>6.00 Blätter Basilikum</td>\n",
       "      <td>6.00</td>\n",
       "      <td>Blätter</td>\n",
       "      <td>Basilikum</td>\n",
       "    </tr>\n",
       "    <tr>\n",
       "      <th>2</th>\n",
       "      <td>4.00 Blätter Petersilie</td>\n",
       "      <td>4.00</td>\n",
       "      <td>Blätter</td>\n",
       "      <td>Petersilie</td>\n",
       "    </tr>\n",
       "    <tr>\n",
       "      <th>3</th>\n",
       "      <td>0.52 Bund Minze</td>\n",
       "      <td>0.52</td>\n",
       "      <td>Bund</td>\n",
       "      <td>Minze</td>\n",
       "    </tr>\n",
       "    <tr>\n",
       "      <th>4</th>\n",
       "      <td>0.52 Bund Petersilie</td>\n",
       "      <td>0.52</td>\n",
       "      <td>Bund</td>\n",
       "      <td>Petersilie</td>\n",
       "    </tr>\n",
       "    <tr>\n",
       "      <th>5</th>\n",
       "      <td>1.00 Bund Frühlingszwiebeln</td>\n",
       "      <td>1.00</td>\n",
       "      <td>Bund</td>\n",
       "      <td>Frühlingszwiebeln</td>\n",
       "    </tr>\n",
       "    <tr>\n",
       "      <th>6</th>\n",
       "      <td>0.52 Bund Petersilie</td>\n",
       "      <td>0.52</td>\n",
       "      <td>Bund</td>\n",
       "      <td>Petersilie</td>\n",
       "    </tr>\n",
       "    <tr>\n",
       "      <th>7</th>\n",
       "      <td>1.00 Bund Frühlingszwiebeln</td>\n",
       "      <td>1.00</td>\n",
       "      <td>Bund</td>\n",
       "      <td>Frühlingszwiebeln</td>\n",
       "    </tr>\n",
       "    <tr>\n",
       "      <th>8</th>\n",
       "      <td>1.00 Bund Koriander</td>\n",
       "      <td>1.00</td>\n",
       "      <td>Bund</td>\n",
       "      <td>Koriander</td>\n",
       "    </tr>\n",
       "    <tr>\n",
       "      <th>9</th>\n",
       "      <td>0.52 Bund Petersilie</td>\n",
       "      <td>0.52</td>\n",
       "      <td>Bund</td>\n",
       "      <td>Petersilie</td>\n",
       "    </tr>\n",
       "  </tbody>\n",
       "</table>\n",
       "</div>"
      ],
      "text/plain": [
       "                    ingredient  quantity     unit               name\n",
       "0       2.00 Becher süße Sahne      2.00   Becher         süße Sahne\n",
       "1       6.00 Blätter Basilikum      6.00  Blätter          Basilikum\n",
       "2      4.00 Blätter Petersilie      4.00  Blätter         Petersilie\n",
       "3              0.52 Bund Minze      0.52     Bund              Minze\n",
       "4         0.52 Bund Petersilie      0.52     Bund         Petersilie\n",
       "5  1.00 Bund Frühlingszwiebeln      1.00     Bund  Frühlingszwiebeln\n",
       "6         0.52 Bund Petersilie      0.52     Bund         Petersilie\n",
       "7  1.00 Bund Frühlingszwiebeln      1.00     Bund  Frühlingszwiebeln\n",
       "8          1.00 Bund Koriander      1.00     Bund          Koriander\n",
       "9         0.52 Bund Petersilie      0.52     Bund         Petersilie"
      ]
     },
     "execution_count": 4,
     "metadata": {},
     "output_type": "execute_result"
    }
   ],
   "source": [
    "csv_file = 'data/data.csv'\n",
    "ingredients_df = pd.read_csv(csv_file)\n",
    "\n",
    "print(f\"Total number of rows: {len(ingredients_df.index)}\")\n",
    "\n",
    "# print out the first few rows of data info\n",
    "ingredients_df.head(10)"
   ]
  },
  {
   "cell_type": "markdown",
   "metadata": {},
   "source": [
    "The first column **ingredient** contains the ingredient plain text as we would find it in a recipe description. This plain text contains normally three pieces of information: the quantity, the unit of measure and the ingredient name. These parts were extracted into the following three columns:"
   ]
  },
  {
   "cell_type": "markdown",
   "metadata": {},
   "source": [
    "The second column **quantity** contains the numeric amount and is somewhat skewed as shown below so it may need some adjustment in the training phase."
   ]
  },
  {
   "cell_type": "code",
   "execution_count": 5,
   "metadata": {},
   "outputs": [
    {
     "data": {
      "text/plain": [
       "count     573.000000\n",
       "mean      165.725375\n",
       "std       383.715068\n",
       "min         0.120000\n",
       "25%         1.520000\n",
       "50%         4.000000\n",
       "75%       200.000000\n",
       "max      6000.000000\n",
       "Name: quantity, dtype: float64"
      ]
     },
     "execution_count": 5,
     "metadata": {},
     "output_type": "execute_result"
    }
   ],
   "source": [
    "ingredients_df.quantity.describe()"
   ]
  },
  {
   "cell_type": "code",
   "execution_count": 13,
   "metadata": {},
   "outputs": [
    {
     "data": {
      "text/plain": [
       "<matplotlib.axes._subplots.AxesSubplot at 0x7f8ad25dd2e8>"
      ]
     },
     "execution_count": 13,
     "metadata": {},
     "output_type": "execute_result"
    },
    {
     "data": {
      "image/png": "[encoded data removed]",
      "text/plain": [
       "<Figure size 2160x720 with 1 Axes>"
      ]
     },
     "metadata": {
      "needs_background": "light"
     },
     "output_type": "display_data"
    }
   ],
   "source": [
    "ingredients_df.quantity.hist(figsize = (30,10), bins=50)"
   ]
  }
 ],
 "metadata": {
  "kernelspec": {
   "display_name": "conda_python3",
   "language": "python",
   "name": "conda_python3"
  },
  "language_info": {
   "codemirror_mode": {
    "name": "ipython",
    "version": 3
   },
   "file_extension": ".py",
   "mimetype": "text/x-python",
   "name": "python",
   "nbconvert_exporter": "python",
   "pygments_lexer": "ipython3",
   "version": "3.6.10"
  }
 },
 "nbformat": 4,
 "nbformat_minor": 4
}
